{
 "cells": [
  {
   "cell_type": "markdown",
   "metadata": {},
   "source": [
    "## Credit Card Fraud Detection V2"
   ]
  },
  {
   "cell_type": "markdown",
   "metadata": {},
   "source": [
    "### Deep Learning Style"
   ]
  },
  {
   "cell_type": "markdown",
   "metadata": {},
   "source": [
    "#### Alex Martishius"
   ]
  },
  {
   "cell_type": "code",
   "execution_count": 1,
   "metadata": {},
   "outputs": [],
   "source": [
    "#Packages\n",
    "import pandas as pd\n",
    "import numpy as np\n",
    "import os\n",
    "from sklearn.model_selection import train_test_split\n",
    "from sklearn.linear_model import LogisticRegression\n",
    "from sklearn.metrics import f1_score\n",
    "from tabulate import tabulate\n",
    "from sklearn.metrics import precision_score\n",
    "from sklearn.metrics import accuracy_score\n",
    "from sklearn.metrics import recall_score\n",
    "from sklearn.metrics import roc_auc_score\n",
    "import matplotlib.pyplot as plt"
   ]
  },
  {
   "cell_type": "code",
   "execution_count": 2,
   "metadata": {},
   "outputs": [],
   "source": [
    "#working dir\n",
    "os.chdir('C:\\\\Users\\\\alexm\\\\Desktop\\\\Kaggle')\n",
    "#import data\n",
    "raw_ds = pd.read_csv('creditcard.csv')"
   ]
  },
  {
   "cell_type": "code",
   "execution_count": 3,
   "metadata": {},
   "outputs": [
    {
     "data": {
      "text/html": [
       "<div>\n",
       "<style scoped>\n",
       "    .dataframe tbody tr th:only-of-type {\n",
       "        vertical-align: middle;\n",
       "    }\n",
       "\n",
       "    .dataframe tbody tr th {\n",
       "        vertical-align: top;\n",
       "    }\n",
       "\n",
       "    .dataframe thead th {\n",
       "        text-align: right;\n",
       "    }\n",
       "</style>\n",
       "<table border=\"1\" class=\"dataframe\">\n",
       "  <thead>\n",
       "    <tr style=\"text-align: right;\">\n",
       "      <th></th>\n",
       "      <th>Time</th>\n",
       "      <th>V1</th>\n",
       "      <th>V2</th>\n",
       "      <th>V3</th>\n",
       "      <th>V4</th>\n",
       "      <th>V5</th>\n",
       "      <th>V6</th>\n",
       "      <th>V7</th>\n",
       "      <th>V8</th>\n",
       "      <th>V9</th>\n",
       "      <th>...</th>\n",
       "      <th>V21</th>\n",
       "      <th>V22</th>\n",
       "      <th>V23</th>\n",
       "      <th>V24</th>\n",
       "      <th>V25</th>\n",
       "      <th>V26</th>\n",
       "      <th>V27</th>\n",
       "      <th>V28</th>\n",
       "      <th>Amount</th>\n",
       "      <th>Class</th>\n",
       "    </tr>\n",
       "  </thead>\n",
       "  <tbody>\n",
       "    <tr>\n",
       "      <th>count</th>\n",
       "      <td>284807.000000</td>\n",
       "      <td>2.848070e+05</td>\n",
       "      <td>2.848070e+05</td>\n",
       "      <td>2.848070e+05</td>\n",
       "      <td>2.848070e+05</td>\n",
       "      <td>2.848070e+05</td>\n",
       "      <td>2.848070e+05</td>\n",
       "      <td>2.848070e+05</td>\n",
       "      <td>2.848070e+05</td>\n",
       "      <td>2.848070e+05</td>\n",
       "      <td>...</td>\n",
       "      <td>2.848070e+05</td>\n",
       "      <td>2.848070e+05</td>\n",
       "      <td>2.848070e+05</td>\n",
       "      <td>2.848070e+05</td>\n",
       "      <td>2.848070e+05</td>\n",
       "      <td>2.848070e+05</td>\n",
       "      <td>2.848070e+05</td>\n",
       "      <td>2.848070e+05</td>\n",
       "      <td>284807.000000</td>\n",
       "      <td>284807.000000</td>\n",
       "    </tr>\n",
       "    <tr>\n",
       "      <th>mean</th>\n",
       "      <td>94813.859575</td>\n",
       "      <td>3.919560e-15</td>\n",
       "      <td>5.688174e-16</td>\n",
       "      <td>-8.769071e-15</td>\n",
       "      <td>2.782312e-15</td>\n",
       "      <td>-1.552563e-15</td>\n",
       "      <td>2.010663e-15</td>\n",
       "      <td>-1.694249e-15</td>\n",
       "      <td>-1.927028e-16</td>\n",
       "      <td>-3.137024e-15</td>\n",
       "      <td>...</td>\n",
       "      <td>1.537294e-16</td>\n",
       "      <td>7.959909e-16</td>\n",
       "      <td>5.367590e-16</td>\n",
       "      <td>4.458112e-15</td>\n",
       "      <td>1.453003e-15</td>\n",
       "      <td>1.699104e-15</td>\n",
       "      <td>-3.660161e-16</td>\n",
       "      <td>-1.206049e-16</td>\n",
       "      <td>88.349619</td>\n",
       "      <td>0.001727</td>\n",
       "    </tr>\n",
       "    <tr>\n",
       "      <th>std</th>\n",
       "      <td>47488.145955</td>\n",
       "      <td>1.958696e+00</td>\n",
       "      <td>1.651309e+00</td>\n",
       "      <td>1.516255e+00</td>\n",
       "      <td>1.415869e+00</td>\n",
       "      <td>1.380247e+00</td>\n",
       "      <td>1.332271e+00</td>\n",
       "      <td>1.237094e+00</td>\n",
       "      <td>1.194353e+00</td>\n",
       "      <td>1.098632e+00</td>\n",
       "      <td>...</td>\n",
       "      <td>7.345240e-01</td>\n",
       "      <td>7.257016e-01</td>\n",
       "      <td>6.244603e-01</td>\n",
       "      <td>6.056471e-01</td>\n",
       "      <td>5.212781e-01</td>\n",
       "      <td>4.822270e-01</td>\n",
       "      <td>4.036325e-01</td>\n",
       "      <td>3.300833e-01</td>\n",
       "      <td>250.120109</td>\n",
       "      <td>0.041527</td>\n",
       "    </tr>\n",
       "    <tr>\n",
       "      <th>min</th>\n",
       "      <td>0.000000</td>\n",
       "      <td>-5.640751e+01</td>\n",
       "      <td>-7.271573e+01</td>\n",
       "      <td>-4.832559e+01</td>\n",
       "      <td>-5.683171e+00</td>\n",
       "      <td>-1.137433e+02</td>\n",
       "      <td>-2.616051e+01</td>\n",
       "      <td>-4.355724e+01</td>\n",
       "      <td>-7.321672e+01</td>\n",
       "      <td>-1.343407e+01</td>\n",
       "      <td>...</td>\n",
       "      <td>-3.483038e+01</td>\n",
       "      <td>-1.093314e+01</td>\n",
       "      <td>-4.480774e+01</td>\n",
       "      <td>-2.836627e+00</td>\n",
       "      <td>-1.029540e+01</td>\n",
       "      <td>-2.604551e+00</td>\n",
       "      <td>-2.256568e+01</td>\n",
       "      <td>-1.543008e+01</td>\n",
       "      <td>0.000000</td>\n",
       "      <td>0.000000</td>\n",
       "    </tr>\n",
       "    <tr>\n",
       "      <th>25%</th>\n",
       "      <td>54201.500000</td>\n",
       "      <td>-9.203734e-01</td>\n",
       "      <td>-5.985499e-01</td>\n",
       "      <td>-8.903648e-01</td>\n",
       "      <td>-8.486401e-01</td>\n",
       "      <td>-6.915971e-01</td>\n",
       "      <td>-7.682956e-01</td>\n",
       "      <td>-5.540759e-01</td>\n",
       "      <td>-2.086297e-01</td>\n",
       "      <td>-6.430976e-01</td>\n",
       "      <td>...</td>\n",
       "      <td>-2.283949e-01</td>\n",
       "      <td>-5.423504e-01</td>\n",
       "      <td>-1.618463e-01</td>\n",
       "      <td>-3.545861e-01</td>\n",
       "      <td>-3.171451e-01</td>\n",
       "      <td>-3.269839e-01</td>\n",
       "      <td>-7.083953e-02</td>\n",
       "      <td>-5.295979e-02</td>\n",
       "      <td>5.600000</td>\n",
       "      <td>0.000000</td>\n",
       "    </tr>\n",
       "    <tr>\n",
       "      <th>50%</th>\n",
       "      <td>84692.000000</td>\n",
       "      <td>1.810880e-02</td>\n",
       "      <td>6.548556e-02</td>\n",
       "      <td>1.798463e-01</td>\n",
       "      <td>-1.984653e-02</td>\n",
       "      <td>-5.433583e-02</td>\n",
       "      <td>-2.741871e-01</td>\n",
       "      <td>4.010308e-02</td>\n",
       "      <td>2.235804e-02</td>\n",
       "      <td>-5.142873e-02</td>\n",
       "      <td>...</td>\n",
       "      <td>-2.945017e-02</td>\n",
       "      <td>6.781943e-03</td>\n",
       "      <td>-1.119293e-02</td>\n",
       "      <td>4.097606e-02</td>\n",
       "      <td>1.659350e-02</td>\n",
       "      <td>-5.213911e-02</td>\n",
       "      <td>1.342146e-03</td>\n",
       "      <td>1.124383e-02</td>\n",
       "      <td>22.000000</td>\n",
       "      <td>0.000000</td>\n",
       "    </tr>\n",
       "    <tr>\n",
       "      <th>75%</th>\n",
       "      <td>139320.500000</td>\n",
       "      <td>1.315642e+00</td>\n",
       "      <td>8.037239e-01</td>\n",
       "      <td>1.027196e+00</td>\n",
       "      <td>7.433413e-01</td>\n",
       "      <td>6.119264e-01</td>\n",
       "      <td>3.985649e-01</td>\n",
       "      <td>5.704361e-01</td>\n",
       "      <td>3.273459e-01</td>\n",
       "      <td>5.971390e-01</td>\n",
       "      <td>...</td>\n",
       "      <td>1.863772e-01</td>\n",
       "      <td>5.285536e-01</td>\n",
       "      <td>1.476421e-01</td>\n",
       "      <td>4.395266e-01</td>\n",
       "      <td>3.507156e-01</td>\n",
       "      <td>2.409522e-01</td>\n",
       "      <td>9.104512e-02</td>\n",
       "      <td>7.827995e-02</td>\n",
       "      <td>77.165000</td>\n",
       "      <td>0.000000</td>\n",
       "    </tr>\n",
       "    <tr>\n",
       "      <th>max</th>\n",
       "      <td>172792.000000</td>\n",
       "      <td>2.454930e+00</td>\n",
       "      <td>2.205773e+01</td>\n",
       "      <td>9.382558e+00</td>\n",
       "      <td>1.687534e+01</td>\n",
       "      <td>3.480167e+01</td>\n",
       "      <td>7.330163e+01</td>\n",
       "      <td>1.205895e+02</td>\n",
       "      <td>2.000721e+01</td>\n",
       "      <td>1.559499e+01</td>\n",
       "      <td>...</td>\n",
       "      <td>2.720284e+01</td>\n",
       "      <td>1.050309e+01</td>\n",
       "      <td>2.252841e+01</td>\n",
       "      <td>4.584549e+00</td>\n",
       "      <td>7.519589e+00</td>\n",
       "      <td>3.517346e+00</td>\n",
       "      <td>3.161220e+01</td>\n",
       "      <td>3.384781e+01</td>\n",
       "      <td>25691.160000</td>\n",
       "      <td>1.000000</td>\n",
       "    </tr>\n",
       "  </tbody>\n",
       "</table>\n",
       "<p>8 rows × 31 columns</p>\n",
       "</div>"
      ],
      "text/plain": [
       "                Time            V1            V2            V3            V4  \\\n",
       "count  284807.000000  2.848070e+05  2.848070e+05  2.848070e+05  2.848070e+05   \n",
       "mean    94813.859575  3.919560e-15  5.688174e-16 -8.769071e-15  2.782312e-15   \n",
       "std     47488.145955  1.958696e+00  1.651309e+00  1.516255e+00  1.415869e+00   \n",
       "min         0.000000 -5.640751e+01 -7.271573e+01 -4.832559e+01 -5.683171e+00   \n",
       "25%     54201.500000 -9.203734e-01 -5.985499e-01 -8.903648e-01 -8.486401e-01   \n",
       "50%     84692.000000  1.810880e-02  6.548556e-02  1.798463e-01 -1.984653e-02   \n",
       "75%    139320.500000  1.315642e+00  8.037239e-01  1.027196e+00  7.433413e-01   \n",
       "max    172792.000000  2.454930e+00  2.205773e+01  9.382558e+00  1.687534e+01   \n",
       "\n",
       "                 V5            V6            V7            V8            V9  \\\n",
       "count  2.848070e+05  2.848070e+05  2.848070e+05  2.848070e+05  2.848070e+05   \n",
       "mean  -1.552563e-15  2.010663e-15 -1.694249e-15 -1.927028e-16 -3.137024e-15   \n",
       "std    1.380247e+00  1.332271e+00  1.237094e+00  1.194353e+00  1.098632e+00   \n",
       "min   -1.137433e+02 -2.616051e+01 -4.355724e+01 -7.321672e+01 -1.343407e+01   \n",
       "25%   -6.915971e-01 -7.682956e-01 -5.540759e-01 -2.086297e-01 -6.430976e-01   \n",
       "50%   -5.433583e-02 -2.741871e-01  4.010308e-02  2.235804e-02 -5.142873e-02   \n",
       "75%    6.119264e-01  3.985649e-01  5.704361e-01  3.273459e-01  5.971390e-01   \n",
       "max    3.480167e+01  7.330163e+01  1.205895e+02  2.000721e+01  1.559499e+01   \n",
       "\n",
       "       ...           V21           V22           V23           V24  \\\n",
       "count  ...  2.848070e+05  2.848070e+05  2.848070e+05  2.848070e+05   \n",
       "mean   ...  1.537294e-16  7.959909e-16  5.367590e-16  4.458112e-15   \n",
       "std    ...  7.345240e-01  7.257016e-01  6.244603e-01  6.056471e-01   \n",
       "min    ... -3.483038e+01 -1.093314e+01 -4.480774e+01 -2.836627e+00   \n",
       "25%    ... -2.283949e-01 -5.423504e-01 -1.618463e-01 -3.545861e-01   \n",
       "50%    ... -2.945017e-02  6.781943e-03 -1.119293e-02  4.097606e-02   \n",
       "75%    ...  1.863772e-01  5.285536e-01  1.476421e-01  4.395266e-01   \n",
       "max    ...  2.720284e+01  1.050309e+01  2.252841e+01  4.584549e+00   \n",
       "\n",
       "                V25           V26           V27           V28         Amount  \\\n",
       "count  2.848070e+05  2.848070e+05  2.848070e+05  2.848070e+05  284807.000000   \n",
       "mean   1.453003e-15  1.699104e-15 -3.660161e-16 -1.206049e-16      88.349619   \n",
       "std    5.212781e-01  4.822270e-01  4.036325e-01  3.300833e-01     250.120109   \n",
       "min   -1.029540e+01 -2.604551e+00 -2.256568e+01 -1.543008e+01       0.000000   \n",
       "25%   -3.171451e-01 -3.269839e-01 -7.083953e-02 -5.295979e-02       5.600000   \n",
       "50%    1.659350e-02 -5.213911e-02  1.342146e-03  1.124383e-02      22.000000   \n",
       "75%    3.507156e-01  2.409522e-01  9.104512e-02  7.827995e-02      77.165000   \n",
       "max    7.519589e+00  3.517346e+00  3.161220e+01  3.384781e+01   25691.160000   \n",
       "\n",
       "               Class  \n",
       "count  284807.000000  \n",
       "mean        0.001727  \n",
       "std         0.041527  \n",
       "min         0.000000  \n",
       "25%         0.000000  \n",
       "50%         0.000000  \n",
       "75%         0.000000  \n",
       "max         1.000000  \n",
       "\n",
       "[8 rows x 31 columns]"
      ]
     },
     "execution_count": 3,
     "metadata": {},
     "output_type": "execute_result"
    }
   ],
   "source": [
    "#Quick describe\n",
    "raw_ds.describe()"
   ]
  },
  {
   "cell_type": "code",
   "execution_count": 3,
   "metadata": {},
   "outputs": [],
   "source": [
    "#train/test/va split;\n",
    "#Define the master X and y by selecting out the response variable and dropping it for X\n",
    "\n",
    "#First drop 'time' because it is not relevant;\n",
    "raw=raw_ds.drop(columns=['Time'])\n",
    "#split into X and y\n",
    "y = raw[['Class']]\n",
    "X = raw.drop(columns=['Class'])\n",
    "\n",
    "#If we want train/validation/test, we need 2 calls to train_test_split\n",
    "#This one splits into 80% train & 20% test.\n",
    "Xtr, Xte, ytr, yte=train_test_split(X, y, test_size=0.2, random_state=19)\n",
    "#This one splits into 80*75% train (60%) & 80*25% (20%) validation\n",
    "Xtr, Xva, ytr, yva=train_test_split(Xtr, ytr, test_size=0.25, random_state=19)"
   ]
  },
  {
   "cell_type": "code",
   "execution_count": 4,
   "metadata": {},
   "outputs": [
    {
     "name": "stdout",
     "output_type": "stream",
     "text": [
      "Xtr shape: (170883, 29)\n",
      "ytr shape: (170883, 1)\n",
      "Xva shape: (56962, 29)\n",
      "yva shape: (56962, 1)\n",
      "Xte shape: (56962, 29)\n",
      "yte shape: (56962, 1)\n"
     ]
    }
   ],
   "source": [
    "#No need to standardize - inputs are already principal components;\n",
    "#Shape of training set\n",
    "print(\"Xtr shape:\",Xtr.shape)\n",
    "print(\"ytr shape:\",ytr.shape)\n",
    "\n",
    "#Shape of validaiton set\n",
    "print(\"Xva shape:\",Xva.shape)\n",
    "print(\"yva shape:\",yva.shape)\n",
    "\n",
    "#Shape of testing set\n",
    "print(\"Xte shape:\",Xte.shape)\n",
    "print(\"yte shape:\",yte.shape)"
   ]
  },
  {
   "cell_type": "code",
   "execution_count": 5,
   "metadata": {},
   "outputs": [
    {
     "name": "stderr",
     "output_type": "stream",
     "text": [
      "C:\\Users\\alexm\\Anaconda3\\lib\\site-packages\\sklearn\\utils\\validation.py:63: DataConversionWarning: A column-vector y was passed when a 1d array was expected. Please change the shape of y to (n_samples, ), for example using ravel().\n",
      "  return f(*args, **kwargs)\n"
     ]
    },
    {
     "name": "stdout",
     "output_type": "stream",
     "text": [
      "| Model        |      Acc |      AUC |   Precision |   Recall |   F1 Score |\n",
      "|--------------+----------+----------+-------------+----------+------------|\n",
      "| Wtd Logistic | 0.999368 | 0.914833 |    0.813725 |     0.83 |   0.821782 |\n"
     ]
    }
   ],
   "source": [
    "#The benchmark is the \"best\" logistic regression model:  C=0.38 and W = {0:11,1:89}\n",
    "c=0.38\n",
    "w = {0:11,1:89}\n",
    "\n",
    "clf = LogisticRegression(penalty='l2',class_weight=w,C=c,solver='lbfgs',max_iter=1500).fit(Xtr, ytr)\n",
    "ypreds = clf.predict(Xte)\n",
    "\n",
    "f1 = f1_score(yte,ypreds)\n",
    "prec = precision_score(yte,ypreds)\n",
    "acc = accuracy_score(yte,ypreds)\n",
    "rec = recall_score(yte,ypreds)\n",
    "auc = roc_auc_score(yte,ypreds)\n",
    "\n",
    "logit_stats = ['Wtd Logistic',acc,auc,prec,rec,f1]\n",
    "table_headers = ['Model','Acc','AUC','Precision','Recall','F1 Score']\n",
    "\n",
    "print(tabulate([logit_stats], headers=table_headers, tablefmt='orgtbl'))"
   ]
  },
  {
   "cell_type": "code",
   "execution_count": 6,
   "metadata": {},
   "outputs": [
    {
     "name": "stdout",
     "output_type": "stream",
     "text": [
      "|   Total Trans |   Total Fraud |   Recalled Fraud |   Slipped Fraud |   Recall % |   FalsePos Cost |   Value Added |\n",
      "|---------------+---------------+------------------+-----------------+------------+-----------------+---------------|\n",
      "|   5.02639e+06 |       13238.9 |          10287.8 |         2951.01 |   0.777095 |             950 |       9337.84 |\n"
     ]
    }
   ],
   "source": [
    "def fraud_impact(amounts,yhat,y,falcost=0,show=False,bring=True):\n",
    "    total_amt = np.sum(amounts)\n",
    "    total_fraud = np.sum(amounts*y)\n",
    "    recalled_fraud = np.sum(amounts*y*yhat)\n",
    "    slipped_fraud = total_fraud-recalled_fraud\n",
    "    false_positive_cost = np.sum((yhat*(1-y))*falcost)\n",
    "    recall_percentage = recalled_fraud/total_fraud\n",
    "    value = recalled_fraud-false_positive_cost\n",
    "    \n",
    "    table_headers = ['Total Trans','Total Fraud','Recalled Fraud','Slipped Fraud','Recall %','FalsePos Cost','Value Added']\n",
    "    table_values = [total_amt,total_fraud,recalled_fraud,slipped_fraud,recall_percentage,false_positive_cost,value]\n",
    "    \n",
    "    if show:\n",
    "        print(tabulate([table_values], headers=table_headers, tablefmt='orgtbl'))\n",
    "    if bring:\n",
    "        return table_values\n",
    "    else:\n",
    "        return\n",
    "    \n",
    "dollar_imp = pd.DataFrame(columns=['Amount','Predicted','Actual'])\n",
    "dollar_imp[['Amount']]=Xte[['Amount']]\n",
    "dollar_imp[['Predicted']]=ypreds\n",
    "dollar_imp[['Actual']]=yte\n",
    "dollar_imp.reset_index(drop=True,inplace=True)\n",
    "\n",
    "amt = np.array(dollar_imp[['Amount']])\n",
    "preds = np.array(dollar_imp[['Predicted']])\n",
    "acts = np.array(dollar_imp[['Actual']])\n",
    "\n",
    "fraud_impact(amt,preds,acts,falcost=50,show=True,bring=False)"
   ]
  },
  {
   "cell_type": "code",
   "execution_count": 7,
   "metadata": {},
   "outputs": [
    {
     "name": "stdout",
     "output_type": "stream",
     "text": [
      "Xtr shape:  (28, 170883)\n",
      "ytr shape:  (1, 170883)\n",
      "Xva shape:  (28, 56962)\n",
      "yva shape:  (1, 56962)\n",
      "Xte shape:  (28, 56962)\n",
      "yte shape:  (1, 56962)\n"
     ]
    }
   ],
   "source": [
    "#Now I want to try and improve with basic deep learning.\n",
    "#First drop 'amount' because it causes exploding gradient.\n",
    "nXtr = Xtr.drop(columns=['Amount'])\n",
    "nXva = Xva.drop(columns=['Amount'])\n",
    "nXte = Xte.drop(columns=['Amount'])\n",
    "#Transpose and cast to numpy arrays so the neural net will work.\n",
    "nnXtr = np.array(nXtr).T\n",
    "nnXte = np.array(nXte).T\n",
    "nnytr = np.array(ytr).T\n",
    "nnyte = np.array(yte).T\n",
    "nnXva = np.array(nXva).T\n",
    "nnyva = np.array(yva).T\n",
    "\n",
    "print(\"Xtr shape: \",nnXtr.shape)\n",
    "print(\"ytr shape: \",nnytr.shape)\n",
    "print(\"Xva shape: \",nnXva.shape)\n",
    "print(\"yva shape: \",nnyva.shape)\n",
    "print(\"Xte shape: \",nnXte.shape)\n",
    "print(\"yte shape: \",nnyte.shape)"
   ]
  },
  {
   "cell_type": "code",
   "execution_count": 92,
   "metadata": {},
   "outputs": [],
   "source": [
    "#Helper functions for nn.\n",
    "#NN-from-scratch functions;\n",
    "#Helper Functions\n",
    "def sigmoid(Z):\n",
    "    \"\"\"\n",
    "    Implements the sigmoid activation in numpy\n",
    "    Arguments:\n",
    "    Z -- numpy array of any shape\n",
    "    Returns:\n",
    "    A -- output of sigmoid(z), same shape as Z\n",
    "    cache -- returns Z as well, useful during backpropagation\n",
    "    \"\"\"\n",
    "    A = 1/(1+np.exp(-Z))\n",
    "    cache = Z\n",
    "    return A, cache\n",
    "\n",
    "def relu(Z):\n",
    "    \"\"\"\n",
    "    Implement the RELU function.\n",
    "    Arguments:\n",
    "    Z -- Output of the linear layer, of any shape\n",
    "    Returns:\n",
    "    A -- Post-activation parameter, of the same shape as Z\n",
    "    cache -- a python dictionary containing \"A\" ; stored for computing the backward pass efficiently\n",
    "    \"\"\"\n",
    "    A = np.maximum(0,Z)\n",
    "    assert(A.shape == Z.shape)\n",
    "    cache = Z \n",
    "    return A, cache\n",
    "\n",
    "def relu_backward(dA, cache):\n",
    "    \"\"\"\n",
    "    Implement the backward propagation for a single RELU unit.\n",
    "    Arguments:\n",
    "    dA -- post-activation gradient, of any shape\n",
    "    cache -- 'Z' where we store for computing backward propagation efficiently\n",
    "    Returns:\n",
    "    dZ -- Gradient of the cost with respect to Z\n",
    "    \"\"\"\n",
    "    Z = cache\n",
    "    dZ = np.array(dA, copy=True) # just converting dz to a correct object.\n",
    "    # When z <= 0, set dz to 0 as well. \n",
    "    dZ[Z <= 0] = 0\n",
    "    assert (dZ.shape == Z.shape)\n",
    "    return dZ\n",
    "\n",
    "def sigmoid_backward(dA, cache):\n",
    "    \"\"\"\n",
    "    Implement the backward propagation for a single SIGMOID unit.\n",
    "    Arguments:\n",
    "    dA -- post-activation gradient, of any shape\n",
    "    cache -- 'Z' where we store for computing backward propagation efficiently\n",
    "    Returns:\n",
    "    dZ -- Gradient of the cost with respect to Z\n",
    "    \"\"\"\n",
    "    Z = cache\n",
    "    s = 1/(1+np.exp(-Z))\n",
    "    dZ = dA * s * (1-s)\n",
    "    assert (dZ.shape == Z.shape)\n",
    "    return dZ\n",
    "\n",
    "def initialize_parameters(n_x, n_h, n_y):\n",
    "    \"\"\"\n",
    "    Argument:\n",
    "    n_x -- size of the input layer\n",
    "    n_h -- size of the hidden layer\n",
    "    n_y -- size of the output layer\n",
    "    Returns:\n",
    "    parameters -- python dictionary containing your parameters:\n",
    "                    W1 -- weight matrix of shape (n_h, n_x)\n",
    "                    b1 -- bias vector of shape (n_h, 1)\n",
    "                    W2 -- weight matrix of shape (n_y, n_h)\n",
    "                    b2 -- bias vector of shape (n_y, 1)\n",
    "    \"\"\"\n",
    "    np.random.seed(1)\n",
    "    W1 = np.random.randn(n_h, n_x)*0.01\n",
    "    b1 = np.zeros((n_h, 1))\n",
    "    W2 = np.random.randn(n_y, n_h)*0.01\n",
    "    b2 = np.zeros((n_y, 1))\n",
    "    assert(W1.shape == (n_h, n_x))\n",
    "    assert(b1.shape == (n_h, 1))\n",
    "    assert(W2.shape == (n_y, n_h))\n",
    "    assert(b2.shape == (n_y, 1))\n",
    "    parameters = {\"W1\": W1,\n",
    "                  \"b1\": b1,\n",
    "                  \"W2\": W2,\n",
    "                  \"b2\": b2}\n",
    "    return parameters     \n",
    "\n",
    "def initialize_parameters_deep(layers_dims,init):\n",
    "    \"\"\"\n",
    "    Arguments:\n",
    "    layer_dims -- python array (list) containing the dimensions of each layer in our network\n",
    "    Returns:\n",
    "    parameters -- python dictionary containing your parameters \"W1\", \"b1\", ..., \"WL\", \"bL\":\n",
    "                    Wl -- weight matrix of shape (layer_dims[l], layer_dims[l-1])\n",
    "                    bl -- bias vector of shape (layer_dims[l], 1)\n",
    "    \"\"\"\n",
    "    initialization = init\n",
    "    parameters = {}\n",
    "    L = len(layers_dims)\n",
    "    \n",
    "    for l in range(1,L):\n",
    "        if initialization=='zeros':\n",
    "            parameters['W' + str(l)] = np.zeros((layers_dims[l],layers_dims[l-1]))\n",
    "            parameters['b' + str(l)] = np.zeros((layers_dims[l],1))\n",
    "        elif initialization=='random':\n",
    "            parameters['W' + str(l)] = np.random.randn(layers_dims[l],layers_dims[l-1])*0.1\n",
    "            parameters['b' + str(l)] = np.zeros((layers_dims[l],1))\n",
    "        elif initialization=='he':\n",
    "            parameters['W' + str(l)] = np.random.randn(layers_dims[l],layers_dims[l-1])*np.sqrt(2./layers_dims[l-1])\n",
    "            parameters['b' + str(l)] = np.zeros((layers_dims[l],1))\n",
    "        elif initialization[0]=='custom':\n",
    "            parameters=initialization[1]\n",
    "        else:\n",
    "            print('init method does not match known methods')\n",
    "            return\n",
    "    return parameters\n",
    "            \n",
    "\n",
    "def linear_forward(A, W, b):\n",
    "    \"\"\"\n",
    "    Implement the linear part of a layer's forward propagation.\n",
    "    Arguments:\n",
    "    A -- activations from previous layer (or input data): (size of previous layer, number of examples)\n",
    "    W -- weights matrix: numpy array of shape (size of current layer, size of previous layer)\n",
    "    b -- bias vector, numpy array of shape (size of the current layer, 1)\n",
    "    Returns:\n",
    "    Z -- the input of the activation function, also called pre-activation parameter \n",
    "    cache -- a python dictionary containing \"A\", \"W\" and \"b\" ; stored for computing the backward pass efficiently\n",
    "    \"\"\"\n",
    "    Z = W.dot(A) + b\n",
    "    assert(Z.shape == (W.shape[0], A.shape[1]))\n",
    "    cache = (A, W, b)\n",
    "    return Z, cache\n",
    "\n",
    "def linear_activation_forward(A_prev, W, b, activation):\n",
    "    \"\"\"\n",
    "    Implement the forward propagation for the LINEAR->ACTIVATION layer\n",
    "    Arguments:\n",
    "    A_prev -- activations from previous layer (or input data): (size of previous layer, number of examples)\n",
    "    W -- weights matrix: numpy array of shape (size of current layer, size of previous layer)\n",
    "    b -- bias vector, numpy array of shape (size of the current layer, 1)\n",
    "    activation -- the activation to be used in this layer, stored as a text string: \"sigmoid\" or \"relu\"\n",
    "    Returns:\n",
    "    A -- the output of the activation function, also called the post-activation value \n",
    "    cache -- a python dictionary containing \"linear_cache\" and \"activation_cache\";\n",
    "             stored for computing the backward pass efficiently\n",
    "    \"\"\"\n",
    "    if activation == \"sigmoid\":\n",
    "        # Inputs: \"A_prev, W, b\". Outputs: \"A, activation_cache\".\n",
    "        Z, linear_cache = linear_forward(A_prev, W, b)\n",
    "        A, activation_cache = sigmoid(Z)\n",
    "    elif activation == \"relu\":\n",
    "        # Inputs: \"A_prev, W, b\". Outputs: \"A, activation_cache\".\n",
    "        Z, linear_cache = linear_forward(A_prev, W, b)\n",
    "        A, activation_cache = relu(Z)\n",
    "    assert (A.shape == (W.shape[0], A_prev.shape[1]))\n",
    "    cache = (linear_cache, activation_cache)\n",
    "    return A, cache\n",
    "\n",
    "def L_model_forward(X, parameters):\n",
    "    \"\"\"\n",
    "    Implement forward propagation for the [LINEAR->RELU]*(L-1)->LINEAR->SIGMOID computation\n",
    "    Arguments:\n",
    "    X -- data, numpy array of shape (input size, number of examples)\n",
    "    parameters -- output of initialize_parameters_deep()\n",
    "    Returns:\n",
    "    AL -- last post-activation value\n",
    "    caches -- list of caches containing:\n",
    "                every cache of linear_relu_forward() (there are L-1 of them, indexed from 0 to L-2)\n",
    "                the cache of linear_sigmoid_forward() (there is one, indexed L-1)\n",
    "    \"\"\"\n",
    "    caches = []\n",
    "    A = X\n",
    "    L = len(parameters) // 2                  # number of layers in the neural network\n",
    "    # Implement [LINEAR -> RELU]*(L-1). Add \"cache\" to the \"caches\" list.\n",
    "    for l in range(1, L):\n",
    "        A_prev = A \n",
    "        A, cache = linear_activation_forward(A_prev, parameters['W' + str(l)], parameters['b' + str(l)], activation = \"relu\")\n",
    "        caches.append(cache)\n",
    "    # Implement LINEAR -> SIGMOID. Add \"cache\" to the \"caches\" list.\n",
    "    AL, cache = linear_activation_forward(A, parameters['W' + str(L)], parameters['b' + str(L)], activation = \"sigmoid\")\n",
    "    caches.append(cache)\n",
    "    assert(AL.shape == (1,X.shape[1]))      \n",
    "    return AL, caches\n",
    "\n",
    "def compute_cost(AL, Y):\n",
    "    \"\"\"\n",
    "    Implement the cost function defined by equation (7).\n",
    "    Arguments:\n",
    "    AL -- probability vector corresponding to your label predictions, shape (1, number of examples)\n",
    "    Y -- true \"label\" vector (for example: containing 0 if non-cat, 1 if cat), shape (1, number of examples)\n",
    "    Returns:\n",
    "    cost -- cross-entropy cost\n",
    "    \"\"\"\n",
    "    m = Y.shape[1]\n",
    "    # Compute loss from aL and y.\n",
    "    cost = (1./m) * (-np.dot(Y,np.log(AL).T) - np.dot(1-Y, np.log(1-AL).T))\n",
    "    cost = np.squeeze(cost)      # To make sure your cost's shape is what we expect (e.g. this turns [[17]] into 17).\n",
    "    assert(cost.shape == ())\n",
    "    return cost\n",
    "\n",
    "def linear_backward(dZ, cache):\n",
    "    \"\"\"\n",
    "    Implement the linear portion of backward propagation for a single layer (layer l)\n",
    "    Arguments:\n",
    "    dZ -- Gradient of the cost with respect to the linear output (of current layer l)\n",
    "    cache -- tuple of values (A_prev, W, b) coming from the forward propagation in the current layer\n",
    "    Returns:\n",
    "    dA_prev -- Gradient of the cost with respect to the activation (of the previous layer l-1), same shape as A_prev\n",
    "    dW -- Gradient of the cost with respect to W (current layer l), same shape as W\n",
    "    db -- Gradient of the cost with respect to b (current layer l), same shape as b\n",
    "    \"\"\"\n",
    "    A_prev, W, b = cache\n",
    "    m = A_prev.shape[1]\n",
    "    dW = 1./m * np.dot(dZ,A_prev.T)\n",
    "    db = 1./m * np.sum(dZ, axis = 1, keepdims = True)\n",
    "    dA_prev = np.dot(W.T,dZ)\n",
    "    assert (dA_prev.shape == A_prev.shape)\n",
    "    assert (dW.shape == W.shape)\n",
    "    assert (db.shape == b.shape)\n",
    "    return dA_prev, dW, db\n",
    "\n",
    "def linear_activation_backward(dA, cache, activation):\n",
    "    \"\"\"\n",
    "    Implement the backward propagation for the LINEAR->ACTIVATION layer.\n",
    "    Arguments:\n",
    "    dA -- post-activation gradient for current layer l \n",
    "    cache -- tuple of values (linear_cache, activation_cache) we store for computing backward propagation efficiently\n",
    "    activation -- the activation to be used in this layer, stored as a text string: \"sigmoid\" or \"relu\"\n",
    "    Returns:\n",
    "    dA_prev -- Gradient of the cost with respect to the activation (of the previous layer l-1), same shape as A_prev\n",
    "    dW -- Gradient of the cost with respect to W (current layer l), same shape as W\n",
    "    db -- Gradient of the cost with respect to b (current layer l), same shape as b\n",
    "    \"\"\"\n",
    "    linear_cache, activation_cache = cache\n",
    "    if activation == \"relu\":\n",
    "        dZ = relu_backward(dA, activation_cache)\n",
    "        dA_prev, dW, db = linear_backward(dZ, linear_cache)    \n",
    "    elif activation == \"sigmoid\":\n",
    "        dZ = sigmoid_backward(dA, activation_cache)\n",
    "        dA_prev, dW, db = linear_backward(dZ, linear_cache)\n",
    "    return dA_prev, dW, db\n",
    "\n",
    "def L_model_backward(AL, Y, caches):\n",
    "    \"\"\"\n",
    "    Implement the backward propagation for the [LINEAR->RELU] * (L-1) -> LINEAR -> SIGMOID group\n",
    "    Arguments:\n",
    "    AL -- probability vector, output of the forward propagation (L_model_forward())\n",
    "    Y -- true \"label\" vector (containing 0 if non-cat, 1 if cat)\n",
    "    caches -- list of caches containing:\n",
    "                every cache of linear_activation_forward() with \"relu\" (there are (L-1) or them, indexes from 0 to L-2)\n",
    "                the cache of linear_activation_forward() with \"sigmoid\" (there is one, index L-1)\n",
    "    Returns:\n",
    "    grads -- A dictionary with the gradients\n",
    "             grads[\"dA\" + str(l)] = ... \n",
    "             grads[\"dW\" + str(l)] = ...\n",
    "             grads[\"db\" + str(l)] = ... \n",
    "    \"\"\"\n",
    "    grads = {}\n",
    "    L = len(caches) # the number of layers\n",
    "    m = AL.shape[1]\n",
    "    Y = Y.reshape(AL.shape) # after this line, Y is the same shape as AL\n",
    "    # Initializing the backpropagation\n",
    "    dAL = - (np.divide(Y, AL) - np.divide(1 - Y, 1 - AL))\n",
    "    # Lth layer (SIGMOID -> LINEAR) gradients. Inputs: \"AL, Y, caches\". Outputs: \"grads[\"dAL\"], grads[\"dWL\"], grads[\"dbL\"]\n",
    "    current_cache = caches[L-1]\n",
    "    grads[\"dA\" + str(L)], grads[\"dW\" + str(L)], grads[\"db\" + str(L)] = linear_activation_backward(dAL, current_cache, activation = \"sigmoid\")\n",
    "    for l in reversed(range(L-1)):\n",
    "        # lth layer: (RELU -> LINEAR) gradients.\n",
    "        current_cache = caches[l]\n",
    "        dA_prev_temp, dW_temp, db_temp = linear_activation_backward(grads[\"dA\" + str(l + 2)], current_cache, activation = \"relu\")\n",
    "        grads[\"dA\" + str(l + 1)] = dA_prev_temp\n",
    "        grads[\"dW\" + str(l + 1)] = dW_temp\n",
    "        grads[\"db\" + str(l + 1)] = db_temp\n",
    "    return grads\n",
    "\n",
    "def update_parameters(parameters, grads, learning_rate):\n",
    "    \"\"\"\n",
    "    Update parameters using gradient descent\n",
    "    Arguments:\n",
    "    parameters -- python dictionary containing your parameters \n",
    "    grads -- python dictionary containing your gradients, output of L_model_backward\n",
    "    Returns:\n",
    "    parameters -- python dictionary containing your updated parameters \n",
    "                  parameters[\"W\" + str(l)] = ... \n",
    "                  parameters[\"b\" + str(l)] = ...\n",
    "    \"\"\"\n",
    "    L = len(parameters) // 2 # number of layers in the neural network\n",
    "    # Update rule for each parameter. Use a for loop.\n",
    "    for l in range(L):\n",
    "        parameters[\"W\" + str(l+1)] = parameters[\"W\" + str(l+1)] - learning_rate * grads[\"dW\" + str(l+1)]\n",
    "        parameters[\"b\" + str(l+1)] = parameters[\"b\" + str(l+1)] - learning_rate * grads[\"db\" + str(l+1)]  \n",
    "    return parameters\n",
    "\n",
    "def predict(X, y, parameters,threshold=0.5):\n",
    "    \"\"\"\n",
    "    This function is used to predict the results of a  L-layer neural network.\n",
    "    Arguments:\n",
    "    X -- data set of examples you would like to label\n",
    "    parameters -- parameters of the trained model\n",
    "    Returns:\n",
    "    p -- predictions for the given dataset X\n",
    "    \"\"\"\n",
    "    m = X.shape[1]\n",
    "    n = len(parameters) // 2 # number of layers in the neural network\n",
    "    p = np.zeros((1,m))\n",
    "    # Forward propagation\n",
    "    probas, caches = L_model_forward(X, parameters)\n",
    "    # convert probas to 0/1 predictions\n",
    "    for i in range(0, probas.shape[1]):\n",
    "        if probas[0,i] > threshold:\n",
    "            p[0,i] = 1\n",
    "        else:\n",
    "            p[0,i] = 0\n",
    "    #print results\n",
    "    #print (\"predictions: \" + str(p))\n",
    "    #print (\"true labels: \" + str(y))\n",
    "    print(\"Accuracy: \"  + str(np.sum((p == y)/m)))\n",
    "    return p\n",
    "    \n",
    "    #Model Function\n",
    "def L_layer_model(X, Y, layers_dims, learning_rate = 0.0075, num_iterations = 3000, print_cost=False,dynamic_lr=False,init='random'):\n",
    "    \"\"\"\n",
    "    Implements a L-layer neural network: [LINEAR->RELU]*(L-1)->LINEAR->SIGMOID.\n",
    "    \n",
    "    Arguments:\n",
    "    X -- data, numpy array of shape (num_px * num_px * 3, number of examples)\n",
    "    Y -- true \"label\" vector (containing 0 if cat, 1 if non-cat), of shape (1, number of examples)\n",
    "    layers_dims -- list containing the input size and each layer size, of length (number of layers + 1).\n",
    "    learning_rate -- learning rate of the gradient descent update rule\n",
    "    num_iterations -- number of iterations of the optimization loop\n",
    "    print_cost -- if True, it prints the cost every 100 steps\n",
    "    \n",
    "    Returns:\n",
    "    parameters -- parameters learnt by the model. They can then be used to predict.\n",
    "    \"\"\"\n",
    "    np.random.seed(1)\n",
    "    costs = []                         # keep track of cost\n",
    "    \n",
    "    # Parameters initialization. (≈ 1 line of code)\n",
    "    parameters = initialize_parameters_deep(layers_dims,init)\n",
    "    \n",
    "    # Loop (gradient descent)\n",
    "    for i in range(0, num_iterations):\n",
    "        \n",
    "        #Dynamic Learning Rate:\n",
    "        if dynamic_lr ==True:\n",
    "            if float(num_iterations)*0.2==i:\n",
    "                learning_rate=learning_rate*0.7\n",
    "                print(\"LR reduced 1x\")\n",
    "            if float(num_iterations)*0.4==i:\n",
    "                learning_rate=learning_rate*0.8\n",
    "                print(\"LR reduced 2x\")\n",
    "            if float(num_iterations)*0.6==i:\n",
    "                learning_rate=learning_rate*0.9\n",
    "                print(\"LR reduced 3x\")\n",
    "            if float(num_iterations)*0.8==i:\n",
    "                learning_rate=learning_rate*0.95\n",
    "                print(\"LR reduced 4x\")\n",
    "\n",
    "        # Forward propagation: [LINEAR -> RELU]*(L-1) -> LINEAR -> SIGMOID.\n",
    "        AL, caches = L_model_forward(X, parameters)\n",
    "        \n",
    "        # Compute cost.\n",
    "        cost = compute_cost(AL, Y)\n",
    "    \n",
    "        # Backward propagation.\n",
    "        grads = L_model_backward(AL, Y, caches)\n",
    " \n",
    "        # Update parameters.\n",
    "        parameters = update_parameters(parameters, grads, learning_rate)\n",
    "                \n",
    "        # Print the cost every 100 training example\n",
    "        if print_cost and i % 100 == 0:\n",
    "            print (\"Cost after iteration %i: %f\" %(i, cost))\n",
    "        if print_cost and i % 100 == 0:\n",
    "            costs.append(cost)\n",
    "            \n",
    "    # plot the cost\n",
    "    plt.plot(np.squeeze(costs))\n",
    "    plt.ylabel('cost')\n",
    "    plt.xlabel('iterations (per hundreds)')\n",
    "    plt.title(\"Learning rate =\" + str(learning_rate))\n",
    "    plt.show()\n",
    "    \n",
    "    return parameters\n"
   ]
  },
  {
   "cell_type": "code",
   "execution_count": 9,
   "metadata": {},
   "outputs": [
    {
     "name": "stdout",
     "output_type": "stream",
     "text": [
      "(28, 170883)\n",
      "(1, 170883)\n"
     ]
    }
   ],
   "source": [
    "print(nnXtr.shape)\n",
    "print(nnytr.shape)"
   ]
  },
  {
   "cell_type": "code",
   "execution_count": 58,
   "metadata": {},
   "outputs": [
    {
     "name": "stdout",
     "output_type": "stream",
     "text": [
      "Cost after iteration 0: 0.254461\n",
      "Cost after iteration 100: 0.252886\n",
      "Cost after iteration 200: 0.251330\n",
      "Cost after iteration 300: 0.249792\n",
      "Cost after iteration 400: 0.248272\n",
      "Cost after iteration 500: 0.246770\n",
      "Cost after iteration 600: 0.245286\n",
      "Cost after iteration 700: 0.243819\n",
      "Cost after iteration 800: 0.242369\n",
      "Cost after iteration 900: 0.240935\n",
      "Cost after iteration 1000: 0.239518\n",
      "Cost after iteration 1100: 0.238117\n",
      "Cost after iteration 1200: 0.236732\n",
      "Cost after iteration 1300: 0.235362\n",
      "Cost after iteration 1400: 0.234008\n",
      "Cost after iteration 1500: 0.232669\n",
      "Cost after iteration 1600: 0.231344\n",
      "Cost after iteration 1700: 0.230035\n",
      "Cost after iteration 1800: 0.228739\n",
      "Cost after iteration 1900: 0.227458\n"
     ]
    },
    {
     "data": {
      "image/png": "[encoded data removed]",
      "text/plain": [
       "<Figure size 432x288 with 1 Axes>"
      ]
     },
     "metadata": {
      "needs_background": "light"
     },
     "output_type": "display_data"
    }
   ],
   "source": [
    "#First let's try 1 hidden layer.\n",
    "#The first dimension has to be 28 to match the width of Xtr.\n",
    "layers_dims = [28, 10, 1]\n",
    "param_nn6 = L_layer_model(nnXtr, nnytr, layers_dims, num_iterations = 2000, learning_rate = .0001, print_cost = True, dynamic_lr=False,init=['custom',param_nn5])"
   ]
  },
  {
   "cell_type": "code",
   "execution_count": 59,
   "metadata": {},
   "outputs": [
    {
     "name": "stdout",
     "output_type": "stream",
     "text": [
      "Accuracy: 0.9977118847398512\n",
      "(170883, 1)\n",
      "77.0\n",
      "314\n"
     ]
    }
   ],
   "source": [
    "#In-sample performance\n",
    "predictions_test = predict(nnXtr, nnytr, param_nn4)\n",
    "ypreds=predictions_test.T\n",
    "print(ypreds.shape)\n",
    "print(np.sum(ypreds))\n",
    "print(np.sum(nnytr))\n"
   ]
  },
  {
   "cell_type": "code",
   "execution_count": 60,
   "metadata": {},
   "outputs": [
    {
     "name": "stdout",
     "output_type": "stream",
     "text": [
      "Accuracy: 0.998174221410765\n",
      "(56962, 1)\n",
      "26.0\n",
      "78\n"
     ]
    }
   ],
   "source": [
    "#out-of-sample performance\n",
    "predictions_test2 = predict(nnXva,nnyva,param_nn4)\n",
    "ypreds=predictions_test2.T\n",
    "print(ypreds.shape)\n",
    "print(np.sum(ypreds))\n",
    "print(np.sum(nnyva))"
   ]
  },
  {
   "cell_type": "code",
   "execution_count": 61,
   "metadata": {},
   "outputs": [
    {
     "name": "stdout",
     "output_type": "stream",
     "text": [
      "| Model      |      Acc |      AUC |   Precision |   Recall |   F1 Score |\n",
      "|------------+----------+----------+-------------+----------+------------|\n",
      "| 1-Layer FC | 0.998174 | 0.499771 |           0 |        0 |          0 |\n"
     ]
    }
   ],
   "source": [
    "yvanp = np.array(yva)\n",
    "f1 = f1_score(yvanp,ypreds)\n",
    "prec = precision_score(yvanp,ypreds)\n",
    "acc = accuracy_score(yvanp,ypreds)\n",
    "rec = recall_score(yvanp,ypreds)\n",
    "auc = roc_auc_score(yvanp,ypreds)\n",
    "\n",
    "nn_stats = ['1-Layer FC',acc,auc,prec,rec,f1]\n",
    "table_headers = ['Model','Acc','AUC','Precision','Recall','F1 Score']\n",
    "\n",
    "print(tabulate([nn_stats], headers=table_headers, tablefmt='orgtbl'))"
   ]
  },
  {
   "cell_type": "code",
   "execution_count": 81,
   "metadata": {},
   "outputs": [
    {
     "name": "stdout",
     "output_type": "stream",
     "text": [
      "Cost after iteration 0: 0.049330\n",
      "Cost after iteration 100: 0.047488\n",
      "Cost after iteration 200: 0.045810\n",
      "Cost after iteration 300: 0.044277\n",
      "Cost after iteration 400: 0.042873\n",
      "Cost after iteration 500: 0.041585\n",
      "Cost after iteration 600: 0.040399\n",
      "Cost after iteration 700: 0.039304\n",
      "Cost after iteration 800: 0.038292\n",
      "Cost after iteration 900: 0.037355\n"
     ]
    },
    {
     "data": {
      "image/png": "[encoded data removed]",
      "text/plain": [
       "<Figure size 432x288 with 1 Axes>"
      ]
     },
     "metadata": {
      "needs_background": "light"
     },
     "output_type": "display_data"
    }
   ],
   "source": [
    "#Looks like this first model is just not capable of learning what it needs to learn.  Let's try a deeper network - 4 hidden layers.\n",
    "layers_dims = [28,20,15,10,5,1]\n",
    "param_dnn9 = L_layer_model(nnXtr, nnytr, layers_dims, num_iterations = 1000, learning_rate = .0009, print_cost = True, dynamic_lr=False,init=['custom',param_dnn8])"
   ]
  },
  {
   "cell_type": "code",
   "execution_count": 82,
   "metadata": {},
   "outputs": [
    {
     "name": "stdout",
     "output_type": "stream",
     "text": [
      "Accuracy: 0.9981624854432566\n",
      "in-sample performance:\n",
      "(170883, 1)\n",
      "0.0\n",
      "314\n",
      "| Model   |      Acc |   AUC |   Precision |   Recall |   F1 Score |\n",
      "|---------+----------+-------+-------------+----------+------------|\n",
      "| FC-4 IS | 0.998162 |   0.5 |           0 |        0 |          0 |\n"
     ]
    },
    {
     "name": "stderr",
     "output_type": "stream",
     "text": [
      "C:\\Users\\alexm\\Anaconda3\\lib\\site-packages\\sklearn\\metrics\\classification.py:1143: UndefinedMetricWarning: F-score is ill-defined and being set to 0.0 due to no predicted samples.\n",
      "  'precision', 'predicted', average, warn_for)\n",
      "C:\\Users\\alexm\\Anaconda3\\lib\\site-packages\\sklearn\\metrics\\classification.py:1143: UndefinedMetricWarning: Precision is ill-defined and being set to 0.0 due to no predicted samples.\n",
      "  'precision', 'predicted', average, warn_for)\n"
     ]
    },
    {
     "name": "stdout",
     "output_type": "stream",
     "text": [
      "Accuracy: 0.9986306660580737\n",
      "OOS performance\n",
      "(56962, 1)\n",
      "0.0\n",
      "78\n",
      "| Model    |      Acc |   AUC |   Precision |   Recall |   F1 Score |\n",
      "|----------+----------+-------+-------------+----------+------------|\n",
      "| FC-4 OOS | 0.998631 |   0.5 |           0 |        0 |          0 |\n"
     ]
    },
    {
     "name": "stderr",
     "output_type": "stream",
     "text": [
      "C:\\Users\\alexm\\Anaconda3\\lib\\site-packages\\sklearn\\metrics\\classification.py:1143: UndefinedMetricWarning: F-score is ill-defined and being set to 0.0 due to no predicted samples.\n",
      "  'precision', 'predicted', average, warn_for)\n",
      "C:\\Users\\alexm\\Anaconda3\\lib\\site-packages\\sklearn\\metrics\\classification.py:1143: UndefinedMetricWarning: Precision is ill-defined and being set to 0.0 due to no predicted samples.\n",
      "  'precision', 'predicted', average, warn_for)\n"
     ]
    }
   ],
   "source": [
    "#In-sample performance\n",
    "predictions_test = predict(nnXtr, nnytr, param_dnn9)\n",
    "ypreds=predictions_test.T\n",
    "print(\"in-sample performance:\")\n",
    "print(ypreds.shape)\n",
    "print(np.sum(ypreds))\n",
    "print(np.sum(nnytr))\n",
    "yvanp = np.array(ytr)\n",
    "f1 = f1_score(yvanp,ypreds)\n",
    "prec = precision_score(yvanp,ypreds)\n",
    "acc = accuracy_score(yvanp,ypreds)\n",
    "rec = recall_score(yvanp,ypreds)\n",
    "auc = roc_auc_score(yvanp,ypreds)\n",
    "\n",
    "nn_stats = ['FC-4 IS',acc,auc,prec,rec,f1]\n",
    "table_headers = ['Model','Acc','AUC','Precision','Recall','F1 Score']\n",
    "\n",
    "print(tabulate([nn_stats], headers=table_headers, tablefmt='orgtbl'))\n",
    "#out-of-sample performance\n",
    "predictions_test2 = predict(nnXva,nnyva,param_dnn9)\n",
    "ypreds=predictions_test2.T\n",
    "print(\"OOS performance\")\n",
    "print(ypreds.shape)\n",
    "print(np.sum(ypreds))\n",
    "print(np.sum(nnyva))\n",
    "yvanp = np.array(yva)\n",
    "f1 = f1_score(yvanp,ypreds)\n",
    "prec = precision_score(yvanp,ypreds)\n",
    "acc = accuracy_score(yvanp,ypreds)\n",
    "rec = recall_score(yvanp,ypreds)\n",
    "auc = roc_auc_score(yvanp,ypreds)\n",
    "\n",
    "nn_stats = ['FC-4 OOS',acc,auc,prec,rec,f1]\n",
    "table_headers = ['Model','Acc','AUC','Precision','Recall','F1 Score']\n",
    "\n",
    "print(tabulate([nn_stats], headers=table_headers, tablefmt='orgtbl'))"
   ]
  },
  {
   "cell_type": "code",
   "execution_count": 10,
   "metadata": {},
   "outputs": [],
   "source": [
    "#The data is just too imbalanced...\n",
    "#Let's try to undersample with \"Near Miss 1\".\n",
    "from collections import Counter\n",
    "from imblearn.under_sampling import NearMiss"
   ]
  },
  {
   "cell_type": "code",
   "execution_count": 11,
   "metadata": {},
   "outputs": [],
   "source": [
    "nm1 = NearMiss(version=1)"
   ]
  },
  {
   "cell_type": "code",
   "execution_count": 12,
   "metadata": {},
   "outputs": [],
   "source": [
    "Xtr_resamp, ytr_resamp = nm1.fit_resample(Xtr, ytr)"
   ]
  },
  {
   "cell_type": "code",
   "execution_count": 13,
   "metadata": {},
   "outputs": [
    {
     "name": "stdout",
     "output_type": "stream",
     "text": [
      "Xtr: (170883, 29)\n",
      "ytr: (170883, 1)\n",
      "Xtr_resamp: (628, 29)\n",
      "ytr_resamp: (628, 1)\n"
     ]
    }
   ],
   "source": [
    "print(\"Xtr:\",Xtr.shape)\n",
    "print(\"ytr:\",ytr.shape)\n",
    "print(\"Xtr_resamp:\",Xtr_resamp.shape)\n",
    "print(\"ytr_resamp:\",ytr_resamp.shape)"
   ]
  },
  {
   "cell_type": "code",
   "execution_count": 20,
   "metadata": {},
   "outputs": [
    {
     "data": {
      "text/html": [
       "<div>\n",
       "<style scoped>\n",
       "    .dataframe tbody tr th:only-of-type {\n",
       "        vertical-align: middle;\n",
       "    }\n",
       "\n",
       "    .dataframe tbody tr th {\n",
       "        vertical-align: top;\n",
       "    }\n",
       "\n",
       "    .dataframe thead th {\n",
       "        text-align: right;\n",
       "    }\n",
       "</style>\n",
       "<table border=\"1\" class=\"dataframe\">\n",
       "  <thead>\n",
       "    <tr style=\"text-align: right;\">\n",
       "      <th></th>\n",
       "      <th>Class</th>\n",
       "    </tr>\n",
       "  </thead>\n",
       "  <tbody>\n",
       "    <tr>\n",
       "      <th>count</th>\n",
       "      <td>628.000000</td>\n",
       "    </tr>\n",
       "    <tr>\n",
       "      <th>mean</th>\n",
       "      <td>0.500000</td>\n",
       "    </tr>\n",
       "    <tr>\n",
       "      <th>std</th>\n",
       "      <td>0.500399</td>\n",
       "    </tr>\n",
       "    <tr>\n",
       "      <th>min</th>\n",
       "      <td>0.000000</td>\n",
       "    </tr>\n",
       "    <tr>\n",
       "      <th>25%</th>\n",
       "      <td>0.000000</td>\n",
       "    </tr>\n",
       "    <tr>\n",
       "      <th>50%</th>\n",
       "      <td>0.500000</td>\n",
       "    </tr>\n",
       "    <tr>\n",
       "      <th>75%</th>\n",
       "      <td>1.000000</td>\n",
       "    </tr>\n",
       "    <tr>\n",
       "      <th>max</th>\n",
       "      <td>1.000000</td>\n",
       "    </tr>\n",
       "  </tbody>\n",
       "</table>\n",
       "</div>"
      ],
      "text/plain": [
       "            Class\n",
       "count  628.000000\n",
       "mean     0.500000\n",
       "std      0.500399\n",
       "min      0.000000\n",
       "25%      0.000000\n",
       "50%      0.500000\n",
       "75%      1.000000\n",
       "max      1.000000"
      ]
     },
     "execution_count": 20,
     "metadata": {},
     "output_type": "execute_result"
    }
   ],
   "source": [
    "#Now we have 628 examples with perfect balance;\n",
    "ytr_resamp.describe()"
   ]
  },
  {
   "cell_type": "code",
   "execution_count": 21,
   "metadata": {},
   "outputs": [
    {
     "name": "stdout",
     "output_type": "stream",
     "text": [
      "Xtr shape:  (28, 628)\n",
      "ytr shape:  (1, 628)\n",
      "Xte shape:  (28, 56962)\n",
      "yte shape:  (1, 56962)\n"
     ]
    }
   ],
   "source": [
    "#I'm going to train it on 628 examples and test it on 56,962 examples.\n",
    "nXtr = Xtr_resamp.drop(columns=['Amount'])\n",
    "#Transpose and cast to numpy arrays so the neural net will work.\n",
    "nnXtr = np.array(nXtr).T\n",
    "nnytr = np.array(ytr_resamp).T\n",
    "\n",
    "print(\"Xtr shape: \",nnXtr.shape)\n",
    "print(\"ytr shape: \",nnytr.shape)\n",
    "print(\"Xte shape: \",nnXte.shape)\n",
    "print(\"yte shape: \",nnyte.shape)"
   ]
  },
  {
   "cell_type": "code",
   "execution_count": null,
   "metadata": {},
   "outputs": [],
   "source": [
    "#Now we can go much deeper since the data is so small. 7 hidden layers.\n",
    "layers_dims = [28,20,15,12,10,8,6,4,1]\n",
    "param_unn = L_layer_model(nnXtr, nnytr, layers_dims, num_iterations = 15000, learning_rate = .0001, print_cost = True, dynamic_lr=True,init='he')"
   ]
  },
  {
   "cell_type": "code",
   "execution_count": 39,
   "metadata": {},
   "outputs": [],
   "source": [
    "saved_param = param_unn"
   ]
  },
  {
   "cell_type": "code",
   "execution_count": null,
   "metadata": {},
   "outputs": [],
   "source": [
    "param_unn2 = L_layer_model(nnXtr, nnytr, layers_dims, num_iterations = 5000, learning_rate = .00005, print_cost = True, dynamic_lr=True,init=['custom',param_unn])"
   ]
  },
  {
   "cell_type": "code",
   "execution_count": 41,
   "metadata": {},
   "outputs": [],
   "source": [
    "saved_param = param_unn2"
   ]
  },
  {
   "cell_type": "code",
   "execution_count": null,
   "metadata": {},
   "outputs": [],
   "source": [
    "param_unn3 = L_layer_model(nnXtr, nnytr, layers_dims, num_iterations = 5000, learning_rate = .00005, print_cost = True, dynamic_lr=True,init=['custom',param_unn2])"
   ]
  },
  {
   "cell_type": "code",
   "execution_count": 52,
   "metadata": {},
   "outputs": [
    {
     "name": "stdout",
     "output_type": "stream",
     "text": [
      "Accuracy: 0.9394904458598726\n",
      "in-sample performance:\n",
      "(628, 1)\n",
      "(628, 1)\n",
      "322.0\n",
      "314\n",
      "| Model    |     Acc |     AUC |   Precision |   Recall |   F1 Score |\n",
      "|----------+---------+---------+-------------+----------+------------|\n",
      "| FC-US IS | 0.93949 | 0.93949 |    0.928571 | 0.952229 |   0.940252 |\n"
     ]
    }
   ],
   "source": [
    "predictions_test = predict(nnXtr,nnytr,param_unn3)\n",
    "ypreds=predictions_test.T\n",
    "yacts = nnytr.T\n",
    "print(\"in-sample performance:\")\n",
    "print(ypreds.shape)\n",
    "print(yacts.shape)\n",
    "print(np.sum(ypreds))\n",
    "print(np.sum(yacts))\n",
    "\n",
    "#In-sample performance\n",
    "f1 = f1_score(yacts,ypreds)\n",
    "prec = precision_score(yacts,ypreds)\n",
    "acc = accuracy_score(yacts,ypreds)\n",
    "rec = recall_score(yacts,ypreds)\n",
    "auc = roc_auc_score(yacts,ypreds)\n",
    "\n",
    "nn_stats = ['FC-US IS',acc,auc,prec,rec,f1]\n",
    "table_headers = ['Model','Acc','AUC','Precision','Recall','F1 Score']\n",
    "\n",
    "print(tabulate([nn_stats], headers=table_headers, tablefmt='orgtbl'))\n"
   ]
  },
  {
   "cell_type": "code",
   "execution_count": 53,
   "metadata": {},
   "outputs": [
    {
     "name": "stdout",
     "output_type": "stream",
     "text": [
      "Accuracy: 0.3739861662160739\n",
      "OOS performance\n",
      "(56962, 1)\n",
      "(56962, 1)\n",
      "35753.0\n",
      "100\n",
      "| Model     |      Acc |      AUC |   Precision |   Recall |   F1 Score |\n",
      "|-----------+----------+----------+-------------+----------+------------|\n",
      "| FC-US OOS | 0.373986 | 0.671469 |  0.00271306 |     0.97 | 0.00541098 |\n"
     ]
    }
   ],
   "source": [
    "#out-of-sample performance\n",
    "predictions_test2 = predict(nnXte,nnyte,param_unn3)\n",
    "ypreds=predictions_test2.T\n",
    "yacts = nnyte.T\n",
    "print(\"OOS performance\")\n",
    "print(ypreds.shape)\n",
    "print(yacts.shape)\n",
    "print(np.sum(ypreds))\n",
    "print(np.sum(yacts))\n",
    "f1 = f1_score(yacts,ypreds)\n",
    "prec = precision_score(yacts,ypreds)\n",
    "acc = accuracy_score(yacts,ypreds)\n",
    "rec = recall_score(yacts,ypreds)\n",
    "auc = roc_auc_score(yacts,ypreds)\n",
    "\n",
    "nn_stats = ['FC-US OOS',acc,auc,prec,rec,f1]\n",
    "table_headers = ['Model','Acc','AUC','Precision','Recall','F1 Score']\n",
    "\n",
    "print(tabulate([nn_stats], headers=table_headers, tablefmt='orgtbl'))"
   ]
  },
  {
   "cell_type": "code",
   "execution_count": 54,
   "metadata": {},
   "outputs": [
    {
     "name": "stdout",
     "output_type": "stream",
     "text": [
      "Xtr shape:  (28, 170883)\n",
      "ytr shape:  (1, 170883)\n",
      "Xva shape:  (28, 56962)\n",
      "yva shape:  (1, 56962)\n",
      "Xte shape:  (28, 56962)\n",
      "yte shape:  (1, 56962)\n"
     ]
    }
   ],
   "source": [
    "#Not a good result.  \n",
    "#The model needs more negatives to learn from.\n",
    "#Let's try a combination of oversampling and undersampling.\n",
    "nXtr = Xtr.drop(columns=['Amount'])\n",
    "nXva = Xva.drop(columns=['Amount'])\n",
    "nXte = Xte.drop(columns=['Amount'])\n",
    "#Transpose and cast to numpy arrays so the neural net will work.\n",
    "nnXtr = np.array(nXtr).T\n",
    "nnXte = np.array(nXte).T\n",
    "nnytr = np.array(ytr).T\n",
    "nnyte = np.array(yte).T\n",
    "nnXva = np.array(nXva).T\n",
    "nnyva = np.array(yva).T\n",
    "\n",
    "print(\"Xtr shape: \",nnXtr.shape)\n",
    "print(\"ytr shape: \",nnytr.shape)\n",
    "print(\"Xva shape: \",nnXva.shape)\n",
    "print(\"yva shape: \",nnyva.shape)\n",
    "print(\"Xte shape: \",nnXte.shape)\n",
    "print(\"yte shape: \",nnyte.shape)\n"
   ]
  },
  {
   "cell_type": "code",
   "execution_count": 66,
   "metadata": {},
   "outputs": [],
   "source": [
    "#First, undersampling Xtr is easy with pandas.\n",
    "comb = Xtr\n",
    "comb[['Class']]=ytr[['Class']]\n",
    "comb_smaller = comb.sample(n=80000,random_state=35)\n",
    "#Xtr_smaller = Xtr.sample(n=80000)\n",
    "#Xtr_smaller.drop(columns=['Amount'],inplace=True)\n",
    "#nnXtr_smaller=np.array(Xtr_smaller).T\n",
    "#nnXtr_smaller.shape"
   ]
  },
  {
   "cell_type": "code",
   "execution_count": 67,
   "metadata": {},
   "outputs": [
    {
     "data": {
      "text/plain": [
       "(80000, 30)"
      ]
     },
     "execution_count": 67,
     "metadata": {},
     "output_type": "execute_result"
    }
   ],
   "source": [
    "comb_smaller.shape"
   ]
  },
  {
   "cell_type": "code",
   "execution_count": 69,
   "metadata": {},
   "outputs": [],
   "source": [
    "#split back out into X and y.\n",
    "comby = comb_smaller[['Class']]\n",
    "combX = comb_smaller.drop(columns=['Class','Amount'])"
   ]
  },
  {
   "cell_type": "code",
   "execution_count": 70,
   "metadata": {},
   "outputs": [
    {
     "name": "stdout",
     "output_type": "stream",
     "text": [
      "(80000, 28)\n",
      "(80000, 1)\n"
     ]
    }
   ],
   "source": [
    "print(combX.shape)\n",
    "print(comby.shape)"
   ]
  },
  {
   "cell_type": "code",
   "execution_count": 71,
   "metadata": {},
   "outputs": [],
   "source": [
    "#now oversample the frauds using SMOTE interpolation.\n",
    "from imblearn.over_sampling import SMOTE\n",
    "Xtr_resamp, ytr_resamp = SMOTE().fit_resample(combX, comby)\n"
   ]
  },
  {
   "cell_type": "code",
   "execution_count": 72,
   "metadata": {},
   "outputs": [
    {
     "name": "stdout",
     "output_type": "stream",
     "text": [
      "(159662, 28)\n",
      "(159662, 1)\n"
     ]
    }
   ],
   "source": [
    "print(Xtr_resamp.shape)\n",
    "print(ytr_resamp.shape)"
   ]
  },
  {
   "cell_type": "code",
   "execution_count": 73,
   "metadata": {},
   "outputs": [
    {
     "data": {
      "text/html": [
       "<div>\n",
       "<style scoped>\n",
       "    .dataframe tbody tr th:only-of-type {\n",
       "        vertical-align: middle;\n",
       "    }\n",
       "\n",
       "    .dataframe tbody tr th {\n",
       "        vertical-align: top;\n",
       "    }\n",
       "\n",
       "    .dataframe thead th {\n",
       "        text-align: right;\n",
       "    }\n",
       "</style>\n",
       "<table border=\"1\" class=\"dataframe\">\n",
       "  <thead>\n",
       "    <tr style=\"text-align: right;\">\n",
       "      <th></th>\n",
       "      <th>Class</th>\n",
       "    </tr>\n",
       "  </thead>\n",
       "  <tbody>\n",
       "    <tr>\n",
       "      <th>count</th>\n",
       "      <td>159662.000000</td>\n",
       "    </tr>\n",
       "    <tr>\n",
       "      <th>mean</th>\n",
       "      <td>0.500000</td>\n",
       "    </tr>\n",
       "    <tr>\n",
       "      <th>std</th>\n",
       "      <td>0.500002</td>\n",
       "    </tr>\n",
       "    <tr>\n",
       "      <th>min</th>\n",
       "      <td>0.000000</td>\n",
       "    </tr>\n",
       "    <tr>\n",
       "      <th>25%</th>\n",
       "      <td>0.000000</td>\n",
       "    </tr>\n",
       "    <tr>\n",
       "      <th>50%</th>\n",
       "      <td>0.500000</td>\n",
       "    </tr>\n",
       "    <tr>\n",
       "      <th>75%</th>\n",
       "      <td>1.000000</td>\n",
       "    </tr>\n",
       "    <tr>\n",
       "      <th>max</th>\n",
       "      <td>1.000000</td>\n",
       "    </tr>\n",
       "  </tbody>\n",
       "</table>\n",
       "</div>"
      ],
      "text/plain": [
       "               Class\n",
       "count  159662.000000\n",
       "mean        0.500000\n",
       "std         0.500002\n",
       "min         0.000000\n",
       "25%         0.000000\n",
       "50%         0.500000\n",
       "75%         1.000000\n",
       "max         1.000000"
      ]
     },
     "execution_count": 73,
     "metadata": {},
     "output_type": "execute_result"
    }
   ],
   "source": [
    "#Let's try a shallow nn to see if we have a good jumpoff point.\n"
   ]
  },
  {
   "cell_type": "code",
   "execution_count": 74,
   "metadata": {},
   "outputs": [
    {
     "name": "stdout",
     "output_type": "stream",
     "text": [
      "Xtr shape:  (28, 159662)\n",
      "ytr shape:  (1, 159662)\n",
      "Xte shape:  (28, 56962)\n",
      "yte shape:  (1, 56962)\n"
     ]
    }
   ],
   "source": [
    "nnXtr = np.array(Xtr_resamp).T\n",
    "nnytr = np.array(ytr_resamp).T\n",
    "\n",
    "print(\"Xtr shape: \",nnXtr.shape)\n",
    "print(\"ytr shape: \",nnytr.shape)\n",
    "print(\"Xte shape: \",nnXte.shape)\n",
    "print(\"yte shape: \",nnyte.shape)"
   ]
  },
  {
   "cell_type": "code",
   "execution_count": 89,
   "metadata": {},
   "outputs": [
    {
     "name": "stdout",
     "output_type": "stream",
     "text": [
      "Cost after iteration 0: 0.412427\n",
      "Cost after iteration 100: 0.409898\n",
      "Cost after iteration 200: 0.407425\n",
      "Cost after iteration 300: 0.405003\n",
      "Cost after iteration 400: 0.402632\n",
      "Cost after iteration 500: 0.400308\n",
      "Cost after iteration 600: 0.398029\n",
      "Cost after iteration 700: 0.395794\n",
      "Cost after iteration 800: 0.393601\n",
      "Cost after iteration 900: 0.391448\n"
     ]
    },
    {
     "data": {
      "image/png": "[encoded data removed]",
      "text/plain": [
       "<Figure size 432x288 with 1 Axes>"
      ]
     },
     "metadata": {
      "needs_background": "light"
     },
     "output_type": "display_data"
    }
   ],
   "source": [
    "#2 hidden layers this time;\n",
    "layers_dims = [28,15,10,1]\n",
    "param_onn4 = L_layer_model(nnXtr, nnytr, layers_dims, num_iterations = 1000, learning_rate = .0005, print_cost = True, dynamic_lr=False,init=['custom',param_onn3])"
   ]
  },
  {
   "cell_type": "code",
   "execution_count": 101,
   "metadata": {},
   "outputs": [
    {
     "name": "stdout",
     "output_type": "stream",
     "text": [
      "Accuracy: 0.8560271072640954\n",
      "in-sample performance:\n",
      "(159662, 1)\n",
      "(159662, 1)\n",
      "56910.0\n",
      "79831\n",
      "| Model    |      Acc |      AUC |   Precision |   Recall |   F1 Score |\n",
      "|----------+----------+----------+-------------+----------+------------|\n",
      "| FC-OS IS | 0.856027 | 0.856027 |     0.99942 | 0.712468 |   0.831894 |\n"
     ]
    }
   ],
   "source": [
    "predictions_test = predict(nnXtr,nnytr,param_onn4,threshold=0.88)\n",
    "ypreds=predictions_test.T\n",
    "yacts = nnytr.T\n",
    "print(\"in-sample performance:\")\n",
    "print(ypreds.shape)\n",
    "print(yacts.shape)\n",
    "print(np.sum(ypreds))\n",
    "print(np.sum(yacts))\n",
    "\n",
    "#In-sample performance\n",
    "f1 = f1_score(yacts,ypreds)\n",
    "prec = precision_score(yacts,ypreds)\n",
    "acc = accuracy_score(yacts,ypreds)\n",
    "rec = recall_score(yacts,ypreds)\n",
    "auc = roc_auc_score(yacts,ypreds)\n",
    "\n",
    "nn_stats = ['FC-OS IS',acc,auc,prec,rec,f1]\n",
    "table_headers = ['Model','Acc','AUC','Precision','Recall','F1 Score']\n",
    "\n",
    "print(tabulate([nn_stats], headers=table_headers, tablefmt='orgtbl'))"
   ]
  },
  {
   "cell_type": "code",
   "execution_count": 100,
   "metadata": {},
   "outputs": [
    {
     "name": "stdout",
     "output_type": "stream",
     "text": [
      "Accuracy: 0.999403110845827\n",
      "OOS performance\n",
      "(56962, 1)\n",
      "(56962, 1)\n",
      "84.0\n",
      "100\n",
      "| Model     |      Acc |      AUC |   Precision |   Recall |   F1 Score |\n",
      "|-----------+----------+----------+-------------+----------+------------|\n",
      "| FC-OS OOS | 0.999403 | 0.874921 |    0.892857 |     0.75 |   0.815217 |\n"
     ]
    }
   ],
   "source": [
    "#out-of-sample performance\n",
    "predictions_test2 = predict(nnXte,nnyte,param_onn4,threshold=0.88)\n",
    "ypreds=predictions_test2.T\n",
    "yacts = nnyte.T\n",
    "print(\"OOS performance\")\n",
    "print(ypreds.shape)\n",
    "print(yacts.shape)\n",
    "print(np.sum(ypreds))\n",
    "print(np.sum(yacts))\n",
    "f1 = f1_score(yacts,ypreds)\n",
    "prec = precision_score(yacts,ypreds)\n",
    "acc = accuracy_score(yacts,ypreds)\n",
    "rec = recall_score(yacts,ypreds)\n",
    "auc = roc_auc_score(yacts,ypreds)\n",
    "\n",
    "nn_stats = ['FC-OS OOS',acc,auc,prec,rec,f1]\n",
    "table_headers = ['Model','Acc','AUC','Precision','Recall','F1 Score']\n",
    "\n",
    "print(tabulate([nn_stats], headers=table_headers, tablefmt='orgtbl'))"
   ]
  },
  {
   "cell_type": "code",
   "execution_count": 103,
   "metadata": {},
   "outputs": [
    {
     "name": "stdout",
     "output_type": "stream",
     "text": [
      "Overall I learned a lot about dealing with imbalanced data.\n"
     ]
    }
   ],
   "source": [
    "#OK, I kinda cheated by messing with the prediction threshold.  BUT we can see that the last oversampling method worked pretty well.\n",
    "#the model would continue to improve if I trained it for a long time.\n",
    "\n",
    "print(\"Overall I learned a lot about dealing with imbalanced data.\")"
   ]
  },
  {
   "cell_type": "code",
   "execution_count": null,
   "metadata": {},
   "outputs": [],
   "source": []
  }
 ],
 "metadata": {
  "kernelspec": {
   "display_name": "Python 3",
   "language": "python",
   "name": "python3"
  },
  "language_info": {
   "codemirror_mode": {
    "name": "ipython",
    "version": 3
   },
   "file_extension": ".py",
   "mimetype": "text/x-python",
   "name": "python",
   "nbconvert_exporter": "python",
   "pygments_lexer": "ipython3",
   "version": "3.7.3"
  }
 },
 "nbformat": 4,
 "nbformat_minor": 2
}
