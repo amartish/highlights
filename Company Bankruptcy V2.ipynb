{
 "cells": [
  {
   "cell_type": "markdown",
   "metadata": {},
   "source": [
    "### Company Bankruptcy V2"
   ]
  },
  {
   "cell_type": "code",
   "execution_count": 10,
   "metadata": {},
   "outputs": [],
   "source": [
    "#Packages\n",
    "import pandas as pd\n",
    "import numpy as np\n",
    "import os\n",
    "import math\n",
    "from sklearn.model_selection import train_test_split\n",
    "from sklearn.linear_model import LogisticRegression\n",
    "from sklearn.metrics import f1_score\n",
    "from tabulate import tabulate\n",
    "from sklearn.metrics import precision_score\n",
    "from sklearn.metrics import accuracy_score\n",
    "from sklearn.metrics import recall_score\n",
    "from sklearn.metrics import roc_auc_score\n",
    "from sklearn import preprocessing\n",
    "import matplotlib.pyplot as plt"
   ]
  },
  {
   "cell_type": "code",
   "execution_count": 1,
   "metadata": {},
   "outputs": [],
   "source": [
    "#Attempting to add random minibatches in this iteration.\n",
    "\n",
    "#Neural Net Code:\n",
    "#Helper functions for nn.\n",
    "#NN-from-scratch functions;\n",
    "#Helper Functions\n",
    "def sigmoid(Z):\n",
    "    \"\"\"\n",
    "    Returns the sigmoid of Z, broadcast.\n",
    "    Requires numpy.\n",
    "    Returns Z as a cache for backprop.\n",
    "    \"\"\"\n",
    "    A = 1/(1+np.exp(-Z))\n",
    "    cache = Z\n",
    "    return A, cache\n",
    "\n",
    "def relu(Z):\n",
    "    \"\"\"\n",
    "    Returns the relu of Z, broadcast.\n",
    "    Requires numpy.\n",
    "    Returns Z as a cache for backprop.\n",
    "    \"\"\"\n",
    "    A = np.maximum(0,Z)\n",
    "    assert(A.shape == Z.shape)\n",
    "    cache = Z \n",
    "    return A, cache\n",
    "\n",
    "def relu_backward(dA, cache):\n",
    "    \"\"\"\n",
    "    Returns the derivative of relu.\n",
    "    Requires numpy.\n",
    "    Requires cache from forward relu step.\n",
    "    \"\"\"\n",
    "    Z = cache\n",
    "    dZ = np.array(dA, copy=True) # just converting dz to a correct object.\n",
    "    # When z <= 0, set dz to 0 as well. \n",
    "    dZ[Z <= 0] = 0\n",
    "    assert (dZ.shape == Z.shape)\n",
    "    return dZ\n",
    "\n",
    "def sigmoid_backward(dA, cache):\n",
    "    \"\"\"\n",
    "    Returns the derivative of sigmoid.\n",
    "    Requires numpy.\n",
    "    Requires cache from forward sigmoid step.\n",
    "    \"\"\"\n",
    "    Z = cache\n",
    "    s = 1/(1+np.exp(-Z))\n",
    "    dZ = dA * s * (1-s)\n",
    "    assert (dZ.shape == Z.shape)\n",
    "    return dZ    \n",
    "\n",
    "def initialize_parameters_deep(layers_dims,init):\n",
    "    \"\"\"\n",
    "    Initializes the necessary weights and biases given the network shape.\n",
    "    Current options are zeros - all zeros.  random - Ws between 0,0.1 and bs zeros. he - He. custom - pass a previously trained network.\n",
    "    \"\"\"\n",
    "    initialization = init\n",
    "    parameters = {}\n",
    "    L = len(layers_dims)\n",
    "    \n",
    "    for l in range(1,L):\n",
    "        if initialization=='zeros':\n",
    "            parameters['W' + str(l)] = np.zeros((layers_dims[l],layers_dims[l-1]))\n",
    "            parameters['b' + str(l)] = np.zeros((layers_dims[l],1))\n",
    "        elif initialization=='random':\n",
    "            parameters['W' + str(l)] = np.random.randn(layers_dims[l],layers_dims[l-1])*0.1\n",
    "            parameters['b' + str(l)] = np.zeros((layers_dims[l],1))\n",
    "        elif initialization=='he':\n",
    "            parameters['W' + str(l)] = np.random.randn(layers_dims[l],layers_dims[l-1])*np.sqrt(2./layers_dims[l-1])\n",
    "            parameters['b' + str(l)] = np.zeros((layers_dims[l],1))\n",
    "        elif initialization[0]=='custom':\n",
    "            parameters=initialization[1]\n",
    "        else:\n",
    "            print('init method does not match known methods')\n",
    "            return\n",
    "    return parameters\n",
    "            \n",
    "\n",
    "def linear_forward(A, W, b):\n",
    "    \"\"\"\n",
    "    Simple dot product for forward pass.\n",
    "    \"\"\"\n",
    "    Z = W.dot(A) + b\n",
    "    assert(Z.shape == (W.shape[0], A.shape[1]))\n",
    "    cache = (A, W, b)\n",
    "    return Z, cache\n",
    "\n",
    "def linear_activation_forward(A_prev, W, b, activation):\n",
    "    \"\"\"\n",
    "    Brings back the A given your activation function.\n",
    "    Currently the activation in all layers is the same.\n",
    "    Until the final layer, then it is sigmoid for binary classification.\n",
    "    \"\"\"\n",
    "    if activation == \"sigmoid\":\n",
    "        # Inputs: \"A_prev, W, b\". Outputs: \"A, activation_cache\".\n",
    "        Z, linear_cache = linear_forward(A_prev, W, b)\n",
    "        A, activation_cache = sigmoid(Z)\n",
    "    elif activation == \"relu\":\n",
    "        # Inputs: \"A_prev, W, b\". Outputs: \"A, activation_cache\".\n",
    "        Z, linear_cache = linear_forward(A_prev, W, b)\n",
    "        A, activation_cache = relu(Z)\n",
    "    assert (A.shape == (W.shape[0], A_prev.shape[1]))\n",
    "    cache = (linear_cache, activation_cache)\n",
    "    return A, cache\n",
    "\n",
    "def L_model_forward(X, parameters):\n",
    "    \"\"\"\n",
    "    Implements forward activation via RELU until the final layer - then sigmoid.\n",
    "    Bring back the caches required for backprop.\n",
    "    \"\"\"\n",
    "    caches = []\n",
    "    A = X\n",
    "    L = len(parameters) // 2                  # number of layers in the neural network\n",
    "    # Implement [LINEAR -> RELU]*(L-1). Add \"cache\" to the \"caches\" list.\n",
    "    for l in range(1, L):\n",
    "        A_prev = A \n",
    "        A, cache = linear_activation_forward(A_prev, parameters['W' + str(l)], parameters['b' + str(l)], activation = \"relu\")\n",
    "        caches.append(cache)\n",
    "    # Implement LINEAR -> SIGMOID. Add \"cache\" to the \"caches\" list.\n",
    "    AL, cache = linear_activation_forward(A, parameters['W' + str(L)], parameters['b' + str(L)], activation = \"sigmoid\")\n",
    "    caches.append(cache)\n",
    "    assert(AL.shape == (1,X.shape[1]))      \n",
    "    return AL, caches\n",
    "\n",
    "def compute_cost(AL, Y):\n",
    "    \"\"\"\n",
    "    AL -- probability vector corresponding to your label predictions, shape (1, number of examples)\n",
    "    Y -- true \"label\" vector (for example: containing 0 if non-cat, 1 if cat), shape (1, number of examples)\n",
    "    Returns:\n",
    "    cost -- currently cross-entropy cost is the only option.\n",
    "    \"\"\"\n",
    "    m = Y.shape[1]\n",
    "    # Compute loss from aL and y.\n",
    "    cost = (1./m) * (-np.dot(Y,np.log(AL).T) - np.dot(1-Y, np.log(1-AL).T))\n",
    "    cost = np.squeeze(cost)      # To make sure your cost's shape is what we expect (e.g. this turns [[17]] into 17).\n",
    "    assert(cost.shape == ())\n",
    "    return cost\n",
    "\n",
    "def linear_backward(dZ, cache):\n",
    "    \"\"\"\n",
    "    Backprop of the dot product between W and b.\n",
    "    \"\"\"\n",
    "    A_prev, W, b = cache\n",
    "    m = A_prev.shape[1]\n",
    "    dW = 1./m * np.dot(dZ,A_prev.T)\n",
    "    db = 1./m * np.sum(dZ, axis = 1, keepdims = True)\n",
    "    dA_prev = np.dot(W.T,dZ)\n",
    "    assert (dA_prev.shape == A_prev.shape)\n",
    "    assert (dW.shape == W.shape)\n",
    "    assert (db.shape == b.shape)\n",
    "    return dA_prev, dW, db\n",
    "\n",
    "def linear_activation_backward(dA, cache, activation):\n",
    "    \"\"\"\n",
    "    Same format as linear_forward.  Dependent on activation function.\n",
    "    \"\"\"\n",
    "    linear_cache, activation_cache = cache\n",
    "    if activation == \"relu\":\n",
    "        dZ = relu_backward(dA, activation_cache)\n",
    "        dA_prev, dW, db = linear_backward(dZ, linear_cache)    \n",
    "    elif activation == \"sigmoid\":\n",
    "        dZ = sigmoid_backward(dA, activation_cache)\n",
    "        dA_prev, dW, db = linear_backward(dZ, linear_cache)\n",
    "    return dA_prev, dW, db\n",
    "\n",
    "def L_model_backward(AL, Y, caches):\n",
    "    \"\"\"\n",
    "    Implement the backward propagation for the [LINEAR->RELU] * (L-1) -> LINEAR -> SIGMOID group\n",
    "    Arguments:\n",
    "    AL -- probability vector, output of the forward propagation (L_model_forward())\n",
    "    Y -- true \"label\" vector (containing 0 if non-cat, 1 if cat)\n",
    "    caches -- list of caches containing:\n",
    "                every cache of linear_activation_forward() with \"relu\" (there are (L-1) or them, indexes from 0 to L-2)\n",
    "                the cache of linear_activation_forward() with \"sigmoid\" (there is one, index L-1)\n",
    "    Returns:\n",
    "    grads -- A dictionary with the gradients\n",
    "             grads[\"dA\" + str(l)] = ... \n",
    "             grads[\"dW\" + str(l)] = ...\n",
    "             grads[\"db\" + str(l)] = ... \n",
    "    \"\"\"\n",
    "    grads = {}\n",
    "    L = len(caches) # the number of layers\n",
    "    m = AL.shape[1]\n",
    "    Y = Y.reshape(AL.shape) # after this line, Y is the same shape as AL\n",
    "    # Initializing the backpropagation\n",
    "    dAL = - (np.divide(Y, AL) - np.divide(1 - Y, 1 - AL))\n",
    "    # Lth layer (SIGMOID -> LINEAR) gradients. Inputs: \"AL, Y, caches\". Outputs: \"grads[\"dAL\"], grads[\"dWL\"], grads[\"dbL\"]\n",
    "    current_cache = caches[L-1]\n",
    "    grads[\"dA\" + str(L)], grads[\"dW\" + str(L)], grads[\"db\" + str(L)] = linear_activation_backward(dAL, current_cache, activation = \"sigmoid\")\n",
    "    for l in reversed(range(L-1)):\n",
    "        # lth layer: (RELU -> LINEAR) gradients.\n",
    "        current_cache = caches[l]\n",
    "        dA_prev_temp, dW_temp, db_temp = linear_activation_backward(grads[\"dA\" + str(l + 2)], current_cache, activation = \"relu\")\n",
    "        grads[\"dA\" + str(l + 1)] = dA_prev_temp\n",
    "        grads[\"dW\" + str(l + 1)] = dW_temp\n",
    "        grads[\"db\" + str(l + 1)] = db_temp\n",
    "    return grads\n",
    "\n",
    "def update_parameters_with_gd(parameters, grads, learning_rate):\n",
    "    \"\"\"\n",
    "    Update parameters using one step of gradient descent\n",
    "    \"\"\"\n",
    "    L = len(parameters) // 2 # number of layers in the neural networks\n",
    "    # Update rule for each parameter\n",
    "    for l in range(L):\n",
    "        parameters[\"W\" + str(l+1)] = parameters['W'+str(l+1)]-(learning_rate*grads['dW'+str(l+1)])\n",
    "        parameters[\"b\" + str(l+1)] = parameters['b'+str(l+1)]-(learning_rate*grads['db'+str(l+1)])\n",
    "        \n",
    "    return parameters\n",
    "\n",
    "def initialize_velocity(parameters):\n",
    "    \"\"\"\n",
    "    Initializes the velocity as a python dictionary with:\n",
    "                - keys: \"dW1\", \"db1\", ..., \"dWL\", \"dbL\" \n",
    "                - values: numpy arrays of zeros of the same shape as the corresponding gradients/parameters.\n",
    "    \"\"\"\n",
    "    L = len(parameters) // 2 # number of layers in the neural networks\n",
    "    v = {}\n",
    "    \n",
    "    # Initialize velocity\n",
    "    for l in range(L):\n",
    "        v[\"dW\" + str(l+1)] = np.zeros((parameters['W'+str(l+1)].shape[0],parameters['W'+str(l+1)].shape[1]))\n",
    "        v[\"db\" + str(l+1)] = np.zeros((parameters['b'+str(l+1)].shape[0],parameters['b'+str(l+1)].shape[1]))\n",
    "        \n",
    "    return v\n",
    "\n",
    "def update_parameters_with_momentum(parameters, grads, v, beta, learning_rate):\n",
    "    \"\"\"\n",
    "    Update parameters using Momentum\n",
    "    \"\"\"\n",
    "    L = len(parameters) // 2 # number of layers in the neural networks\n",
    "    # Momentum update for each parameter\n",
    "    for l in range(L):\n",
    "        # compute velocities\n",
    "        v[\"dW\" + str(l+1)] = (beta*v['dW'+str(l+1)])+((1-beta)*grads['dW'+str(l+1)])\n",
    "        v[\"db\" + str(l+1)] = (beta*v['db'+str(l+1)])+((1-beta)*grads['db'+str(l+1)])\n",
    "        # update parameters\n",
    "        parameters[\"W\" + str(l+1)] = parameters['W'+str(l+1)]-(learning_rate*v['dW'+str(l+1)])\n",
    "        parameters[\"b\" + str(l+1)] = parameters['b'+str(l+1)]-(learning_rate*v['db'+str(l+1)])\n",
    "        \n",
    "    return parameters, v\n",
    "\n",
    "def initialize_adam(parameters) :\n",
    "    \"\"\"\n",
    "    Initializes v and s as two python dictionaries with:\n",
    "                - keys: \"dW1\", \"db1\", ..., \"dWL\", \"dbL\" \n",
    "                - values: numpy arrays of zeros of the same shape as the corresponding gradients/parameters.\n",
    "    \"\"\"\n",
    "    L = len(parameters) // 2 # number of layers in the neural networks\n",
    "    v = {}\n",
    "    s = {}\n",
    "    # Initialize v, s. Input: \"parameters\". Outputs: \"v, s\".\n",
    "    for l in range(L):\n",
    "        v[\"dW\" + str(l+1)] = np.zeros((parameters['W'+str(l+1)].shape[0],parameters['W'+str(l+1)].shape[1]))\n",
    "        v[\"db\" + str(l+1)] = np.zeros((parameters['b'+str(l+1)].shape[0],parameters['b'+str(l+1)].shape[1]))\n",
    "        s[\"dW\" + str(l+1)] = np.zeros((parameters['W'+str(l+1)].shape[0],parameters['W'+str(l+1)].shape[1]))\n",
    "        s[\"db\" + str(l+1)] = np.zeros((parameters['b'+str(l+1)].shape[0],parameters['b'+str(l+1)].shape[1]))\n",
    "    \n",
    "    return v, s\n",
    "\n",
    "def update_parameters_with_adam(parameters, grads, v, s, t, learning_rate = 0.01,\n",
    "                                beta1 = 0.9, beta2 = 0.999,  epsilon = 1e-8):\n",
    "    \"\"\"\n",
    "    Update parameters using Adam\n",
    "    \"\"\"\n",
    "    L = len(parameters) // 2                 # number of layers in the neural networks\n",
    "    v_corrected = {}                         # Initializing first moment estimate, python dictionary\n",
    "    s_corrected = {}                         # Initializing second moment estimate, python dictionary\n",
    "    \n",
    "    # Perform Adam update on all parameters\n",
    "    for l in range(L):\n",
    "        # Moving average of the gradients. Inputs: \"v, grads, beta1\". Output: \"v\".\n",
    "        v[\"dW\" + str(l+1)] = (beta1*v['dW'+str(l+1)])+((1-beta1)*grads['dW'+str(l+1)])\n",
    "        v[\"db\" + str(l+1)] = (beta1*v['db'+str(l+1)])+((1-beta1)*grads['db'+str(l+1)])\n",
    "\n",
    "        # Compute bias-corrected first moment estimate. Inputs: \"v, beta1, t\". Output: \"v_corrected\".\n",
    "        v_corrected[\"dW\" + str(l+1)] = v[\"dW\" + str(l+1)]/(1-(beta1**t))\n",
    "        v_corrected[\"db\" + str(l+1)] = v[\"db\" + str(l+1)]/(1-(beta1**t))\n",
    "\n",
    "        # Moving average of the squared gradients. Inputs: \"s, grads, beta2\". Output: \"s\".\n",
    "        s[\"dW\" + str(l+1)] = (beta2*s['dW'+str(l+1)])+((1-beta2)*(grads['dW'+str(l+1)]**2))\n",
    "        s[\"db\" + str(l+1)] = (beta2*s['db'+str(l+1)])+((1-beta2)*(grads['db'+str(l+1)]**2))\n",
    "\n",
    "        # Compute bias-corrected second raw moment estimate. Inputs: \"s, beta2, t\". Output: \"s_corrected\".\n",
    "        s_corrected[\"dW\" + str(l+1)] = s[\"dW\" + str(l+1)]/(1-(beta2**t))\n",
    "        s_corrected[\"db\" + str(l+1)] = s[\"db\" + str(l+1)]/(1-(beta2**t))\n",
    "\n",
    "        # Update parameters. Inputs: \"parameters, learning_rate, v_corrected, s_corrected, epsilon\". Output: \"parameters\".\n",
    "        parameters[\"W\" + str(l+1)] = parameters[\"W\" + str(l+1)]-(learning_rate*(v_corrected['dW'+str(l+1)]/np.sqrt(s_corrected['dW'+str(l+1)]+epsilon)))\n",
    "        parameters[\"b\" + str(l+1)] = parameters[\"b\" + str(l+1)]-(learning_rate*(v_corrected['db'+str(l+1)]/np.sqrt(s_corrected['db'+str(l+1)]+epsilon)))\n",
    "\n",
    "    return parameters, v, s\n",
    "\n",
    "\n",
    "\n",
    "\n",
    "def update_parameters(parameters, grads, learning_rate,kind='gd',extras=[]):\n",
    "    \"\"\"\n",
    "    GD, momentum, or ADAM.\n",
    "    If momentum then extras is expected to be [v,beta]\n",
    "    If ADAM then extras is expected to be [v,s,t,beta1,beta2,epsilon]\n",
    "    \"\"\"\n",
    "    if kind=='gd':\n",
    "        parameters_upd = update_parameters_with_gd(parameters, grads, learning_rate)\n",
    "        return parameters_upd\n",
    "    if kind=='momentum':\n",
    "        parameters_upd,v = update_parameters_with_momentum(parameters, grads, extras[0], extras[1], learning_rate)\n",
    "        return parameters_upd,v\n",
    "    if kind=='adam':\n",
    "        parameters_upd,v,s = update_parameters_with_adam(parameters, grads, extras[0], extras[1], extras[2], learning_rate,\n",
    "                                extras[3], extras[4],  extras[5])\n",
    "        return parameters_upd,v,s\n",
    "\n",
    "def predict(X, y, parameters,threshold=0.5):\n",
    "    \"\"\"\n",
    "    Takes X and y to give you instant feedback on accuracy.\n",
    "    Classification threshold can be adjusted- but more training is recommended instead.\n",
    "    \"\"\"\n",
    "    m = X.shape[1]\n",
    "    n = len(parameters) // 2 # number of layers in the neural network\n",
    "    p = np.zeros((1,m))\n",
    "    # Forward propagation\n",
    "    probas, caches = L_model_forward(X, parameters)\n",
    "    # convert probas to 0/1 predictions\n",
    "    for i in range(0, probas.shape[1]):\n",
    "        if probas[0,i] > threshold:\n",
    "            p[0,i] = 1\n",
    "        else:\n",
    "            p[0,i] = 0\n",
    "    #print results\n",
    "    #print (\"predictions: \" + str(p))\n",
    "    #print (\"true labels: \" + str(y))\n",
    "    print(\"Accuracy: \"  + str(np.sum((p == y)/m)))\n",
    "    return p\n",
    "    \n",
    "def random_mini_batches(X, Y, mini_batch_size = 64, seed = 0):\n",
    "    \"\"\"\n",
    "    Creates a list of random minibatches from (X, Y)\n",
    "    \n",
    "    Returns:\n",
    "    mini_batches -- list of synchronous (mini_batch_X, mini_batch_Y)\n",
    "    \"\"\"\n",
    "    np.random.seed(seed)\n",
    "    m = X.shape[1]      # number of training examples\n",
    "    mini_batches = []\n",
    "        \n",
    "    # Step 1: Shuffle (X, Y)\n",
    "    permutation = list(np.random.permutation(m))\n",
    "    shuffled_X = X[:, permutation]\n",
    "    shuffled_Y = Y[:, permutation].reshape((1,m))\n",
    "\n",
    "    # Step 2: Partition (shuffled_X, shuffled_Y). Minus the end case.\n",
    "    num_complete_minibatches = math.floor(m/mini_batch_size) # number of mini batches of size mini_batch_size in your partitionning\n",
    "    for k in range(0, num_complete_minibatches):\n",
    "        mini_batch_X = shuffled_X[:, k*mini_batch_size : (k+1)*mini_batch_size]\n",
    "        mini_batch_Y = shuffled_Y[:, k*mini_batch_size : (k+1)*mini_batch_size]\n",
    "        mini_batch = (mini_batch_X, mini_batch_Y)\n",
    "        mini_batches.append(mini_batch)\n",
    "    \n",
    "    # Handling the end case (last mini-batch < mini_batch_size)\n",
    "    if m % mini_batch_size != 0:\n",
    "        mini_batch_X = shuffled_X[:,num_complete_minibatches*mini_batch_size:]\n",
    "        mini_batch_Y = shuffled_Y[:,num_complete_minibatches*mini_batch_size:]\n",
    "        mini_batch = (mini_batch_X, mini_batch_Y)\n",
    "        mini_batches.append(mini_batch)\n",
    "    \n",
    "    return mini_batches\n",
    " \n",
    "def L_layer_model(X, Y, layers_dims, learning_rate = 0.0075, num_iterations = 3000, print_cost=False,dynamic_lr=False,init='random',opt=['gd']):\n",
    "    \"\"\"\n",
    "    Implements a L-layer neural network: [LINEAR->RELU]*(L-1)->LINEAR->SIGMOID.\n",
    "    \n",
    "    Arguments:\n",
    "    X -- data, numpy array of shape (num_px * num_px * 3, number of examples)\n",
    "    Y -- true \"label\" vector (containing 0 if cat, 1 if non-cat), of shape (1, number of examples)\n",
    "    layers_dims -- list containing the input size and each layer size, of length (number of layers + 1).\n",
    "    learning_rate -- learning rate of the gradient descent update rule\n",
    "    num_iterations -- number of iterations of the optimization loop\n",
    "    print_cost -- if True, it prints the cost every 100 steps\n",
    "    dynamic_lr -- if True, learning rate decays every 20%\n",
    "    init -- 'zeros','random',or'he'\n",
    "    opt -- expected to be an array : ['gd'],['momentum',beta], or ['adam',t,beta1,beta2,epsilon]\n",
    "    \n",
    "    Returns:\n",
    "    parameters -- parameters learnt by the model. They can then be used to predict.\n",
    "    \"\"\"\n",
    "    np.random.seed(1)\n",
    "    costs = []                         # keep track of cost\n",
    "    \n",
    "    # Parameters initialization. (≈ 1 line of code)\n",
    "    parameters = initialize_parameters_deep(layers_dims,init)\n",
    "    \n",
    "    #Initialize the optimizer\n",
    "    if opt[0] == \"gd\":\n",
    "        pass # no initialization required for gradient descent\n",
    "    elif opt[0] == \"momentum\":\n",
    "        v = initialize_velocity(parameters)\n",
    "        beta = opt[1]\n",
    "    elif opt[0] == \"adam\":\n",
    "        v, s = initialize_adam(parameters)\n",
    "        t = opt[1]\n",
    "        beta1 = opt[2]\n",
    "        beta2 = opt[3]\n",
    "        epsilon = opt[4]\n",
    "    \n",
    "    # Loop (gradient descent)\n",
    "    for i in range(0, num_iterations):\n",
    "        \n",
    "        #Dynamic Learning Rate:\n",
    "        if dynamic_lr ==True:\n",
    "            if float(num_iterations)*0.2==i:\n",
    "                learning_rate=learning_rate*0.7\n",
    "                print(\"LR reduced 1x\")\n",
    "            if float(num_iterations)*0.4==i:\n",
    "                learning_rate=learning_rate*0.8\n",
    "                print(\"LR reduced 2x\")\n",
    "            if float(num_iterations)*0.6==i:\n",
    "                learning_rate=learning_rate*0.9\n",
    "                print(\"LR reduced 3x\")\n",
    "            if float(num_iterations)*0.8==i:\n",
    "                learning_rate=learning_rate*0.95\n",
    "                print(\"LR reduced 4x\")\n",
    "\n",
    "        # Forward propagation: [LINEAR -> RELU]*(L-1) -> LINEAR -> SIGMOID.\n",
    "        AL, caches = L_model_forward(X, parameters)\n",
    "        \n",
    "        # Compute cost.\n",
    "        cost = compute_cost(AL, Y)\n",
    "    \n",
    "        # Backward propagation.\n",
    "        grads = L_model_backward(AL, Y, caches)\n",
    " \n",
    "        # Update parameters.\n",
    "        if opt[0] == \"gd\":\n",
    "            parameters = update_parameters(parameters, grads, learning_rate,'gd')\n",
    "        elif opt[0] == \"momentum\":\n",
    "            parameters,v = update_parameters(parameters, grads, learning_rate,'momentum',[v,beta])\n",
    "        elif opt[0] == \"adam\":\n",
    "            t = t+1\n",
    "            parameters,v,s = update_parameters(parameters, grads, learning_rate,'adam',[v,s,t,beta1,beta2,epsilon])\n",
    "        \n",
    "                \n",
    "        # Print the cost every 100 training example\n",
    "        if print_cost and i % 100 == 0:\n",
    "            print (\"Cost after iteration %i: %f\" %(i, cost))\n",
    "        if print_cost and i % 100 == 0:\n",
    "            costs.append(cost)\n",
    "            \n",
    "    # plot the cost\n",
    "    plt.plot(np.squeeze(costs))\n",
    "    plt.ylabel('cost')\n",
    "    plt.xlabel('iterations (per hundreds)')\n",
    "    plt.title(\"Learning rate =\" + str(learning_rate))\n",
    "    plt.show()\n",
    "    \n",
    "    return parameters\n",
    "\n"
   ]
  },
  {
   "cell_type": "code",
   "execution_count": 3,
   "metadata": {},
   "outputs": [],
   "source": [
    "#working dir\n",
    "os.chdir('C:\\\\Users\\\\alexm\\\\Desktop\\\\Kaggle')\n",
    "#import data\n",
    "raw_ds = pd.read_csv('data.csv')"
   ]
  },
  {
   "cell_type": "code",
   "execution_count": 4,
   "metadata": {},
   "outputs": [],
   "source": [
    "#Train/val/test split.\n",
    "#split into X and y\n",
    "y = raw_ds[['Bankrupt?']]\n",
    "X = raw_ds.drop(columns=['Bankrupt?'])\n",
    "\n",
    "#If we want train/validation/test, we need 2 calls to train_test_split\n",
    "#This one splits into 80% train & 20% test.\n",
    "Xtr, Xte, ytr, yte=train_test_split(X, y, test_size=0.2, random_state=312)\n",
    "#This one splits into 80*75% train (60%) & 80*25% (20%) validation\n",
    "Xtr, Xva, ytr, yva=train_test_split(Xtr, ytr, test_size=0.25, random_state=312)"
   ]
  },
  {
   "cell_type": "code",
   "execution_count": 5,
   "metadata": {},
   "outputs": [],
   "source": [
    "scaler = preprocessing.StandardScaler().fit(X)\n",
    "tXtr = scaler.transform(Xtr)\n",
    "tXva = scaler.transform(Xva)\n",
    "tXte = scaler.transform(Xte)"
   ]
  },
  {
   "cell_type": "code",
   "execution_count": 6,
   "metadata": {},
   "outputs": [],
   "source": [
    "def perf_table(yhat,y,title=\"Model Performance\"):\n",
    "    f1 = f1_score(y,yhat)\n",
    "    prec = precision_score(y,yhat)\n",
    "    acc = accuracy_score(y,yhat)\n",
    "    rec = recall_score(y,yhat)\n",
    "    auc = roc_auc_score(y,yhat)\n",
    "\n",
    "    model_stats = [title,acc,auc,prec,rec,f1]\n",
    "    table_headers = ['Model','Accuracy','AUC','Precision','Recall','F1 Score']\n",
    "\n",
    "    print(tabulate([model_stats], headers=table_headers, tablefmt='orgtbl'))\n",
    "    return"
   ]
  },
  {
   "cell_type": "code",
   "execution_count": 7,
   "metadata": {},
   "outputs": [
    {
     "name": "stdout",
     "output_type": "stream",
     "text": [
      "(95, 4091)\n",
      "(1, 4091)\n",
      "(95, 1364)\n",
      "(1, 1364)\n",
      "(95, 1364)\n",
      "(1, 1364)\n"
     ]
    }
   ],
   "source": [
    "nnXtr = np.array(tXtr.T)\n",
    "nnytr = np.array(ytr.T)\n",
    "\n",
    "nnXva = np.array(tXva.T)\n",
    "nnyva = np.array(yva.T)\n",
    "\n",
    "nnXte = np.array(tXte.T)\n",
    "nnyte = np.array(yte.T)\n",
    "\n",
    "print(nnXtr.shape)\n",
    "print(nnytr.shape)\n",
    "\n",
    "print(nnXva.shape)\n",
    "print(nnyva.shape)\n",
    "\n",
    "print(nnXte.shape)\n",
    "print(nnyte.shape)"
   ]
  },
  {
   "cell_type": "code",
   "execution_count": 11,
   "metadata": {},
   "outputs": [],
   "source": [
    "#Let's try some minibatches.\n",
    "minis = random_mini_batches(nnXtr,nnytr, mini_batch_size = 64, seed = 0)\n"
   ]
  },
  {
   "cell_type": "code",
   "execution_count": 22,
   "metadata": {},
   "outputs": [],
   "source": [
    "(miniX,miniY)=minis[0]"
   ]
  },
  {
   "cell_type": "code",
   "execution_count": 23,
   "metadata": {},
   "outputs": [
    {
     "data": {
      "text/plain": [
       "(95, 64)"
      ]
     },
     "execution_count": 23,
     "metadata": {},
     "output_type": "execute_result"
    }
   ],
   "source": [
    "miniX.shape"
   ]
  },
  {
   "cell_type": "code",
   "execution_count": 24,
   "metadata": {},
   "outputs": [
    {
     "data": {
      "text/plain": [
       "(1, 64)"
      ]
     },
     "execution_count": 24,
     "metadata": {},
     "output_type": "execute_result"
    }
   ],
   "source": [
    "miniY.shape"
   ]
  },
  {
   "cell_type": "code",
   "execution_count": 25,
   "metadata": {},
   "outputs": [],
   "source": [
    "layers = [95,50,10,1]"
   ]
  },
  {
   "cell_type": "code",
   "execution_count": 26,
   "metadata": {},
   "outputs": [
    {
     "name": "stdout",
     "output_type": "stream",
     "text": [
      "Cost after iteration 0: 0.705610\n",
      "Cost after iteration 100: 0.444231\n",
      "Cost after iteration 200: 0.286892\n",
      "Cost after iteration 300: 0.205872\n",
      "Cost after iteration 400: 0.165534\n",
      "Cost after iteration 500: 0.141460\n",
      "Cost after iteration 600: 0.124420\n",
      "Cost after iteration 700: 0.111395\n",
      "Cost after iteration 800: 0.100398\n",
      "Cost after iteration 900: 0.090876\n"
     ]
    },
    {
     "data": {
      "image/png": "[encoded data removed]",
      "text/plain": [
       "<Figure size 432x288 with 1 Axes>"
      ]
     },
     "metadata": {
      "needs_background": "light"
     },
     "output_type": "display_data"
    }
   ],
   "source": [
    "params =  L_layer_model(miniX,miniY,layers,learning_rate = 0.01,num_iterations=1000,print_cost=True,dynamic_lr=False,init='random',opt=['gd'])"
   ]
  },
  {
   "cell_type": "code",
   "execution_count": 28,
   "metadata": {},
   "outputs": [],
   "source": [
    "#This will just keep fitting the model on the same minibatch - not what we want.  We need a new function specifically for minibatch learning"
   ]
  },
  {
   "cell_type": "code",
   "execution_count": 48,
   "metadata": {},
   "outputs": [],
   "source": [
    "def mini_model(X,Y,layers_dims,batchsize,learning_rate=0.01,epochs=1,print_cost=False,dynamic_lr=False,init='random',opt=['gd'],sd=0):\n",
    "    \"\"\"\n",
    "    Implements a L-layer neural network: [LINEAR->RELU]*(L-1)->LINEAR->SIGMOID, includes minibatch learning.\n",
    "    \n",
    "    Arguments:\n",
    "    epochs -- number of times thru the data\n",
    "    layers_dims -- list containing the input size and each layer size, of length (number of layers + 1).\n",
    "    learning_rate -- learning rate of the gradient descent update rule\n",
    "    num_iterations -- number of iterations of the optimization loop\n",
    "    print_cost -- if True, it prints the cost every 100 steps\n",
    "    dynamic_lr -- if True, learning rate decays every 20%\n",
    "    init -- 'zeros','random',or'he'\n",
    "    opt -- expected to be an array : ['gd'],['momentum',beta], or ['adam',t,beta1,beta2,epsilon]\n",
    "    \n",
    "    Returns:\n",
    "    parameters -- parameters learnt by the model. They can then be used to predict.\n",
    "    \"\"\"\n",
    "    np.random.seed(sd)\n",
    "    costs = []                         # keep track of cost\n",
    "    \n",
    "    # Parameters initialization. (≈ 1 line of code)\n",
    "    parameters = initialize_parameters_deep(layers_dims,init)\n",
    "    \n",
    "    #Initialize the optimizer\n",
    "    if opt[0] == \"gd\":\n",
    "        pass # no initialization required for gradient descent\n",
    "    elif opt[0] == \"momentum\":\n",
    "        v = initialize_velocity(parameters)\n",
    "        beta = opt[1]\n",
    "    elif opt[0] == \"adam\":\n",
    "        v, s = initialize_adam(parameters)\n",
    "        t = opt[1]\n",
    "        beta1 = opt[2]\n",
    "        beta2 = opt[3]\n",
    "        epsilon = opt[4]\n",
    "    \n",
    "    # Optimization loop\n",
    "    for i in range(epochs):\n",
    "        \n",
    "        # Define the random minibatches. We increment the seed to reshuffle differently the dataset after each epoch\n",
    "        sd = sd + 1\n",
    "        minibatches = random_mini_batches(X, Y, mini_batch_size=batchsize,seed=sd)\n",
    "        cost_total = 0\n",
    "        \n",
    "        for minibatch in minibatches:\n",
    "\n",
    "            # Select a minibatch\n",
    "            (miniX, miniY) = minibatch\n",
    "\n",
    "            # Forward propagation\n",
    "        \n",
    "            #Dynamic Learning Rate:\n",
    "            if dynamic_lr ==True:\n",
    "                if float(epochs)*0.2==float(i):\n",
    "                    learning_rate=learning_rate*0.7\n",
    "                    print(\"LR reduced 1x\")\n",
    "                if float(epochs)*0.4==float(i):\n",
    "                    learning_rate=learning_rate*0.8\n",
    "                    print(\"LR reduced 2x\")\n",
    "                if float(epochs)*0.6==float(i):\n",
    "                    learning_rate=learning_rate*0.9\n",
    "                    print(\"LR reduced 3x\")\n",
    "                if float(epochs)*0.8==float(i):\n",
    "                    learning_rate=learning_rate*0.95\n",
    "                    print(\"LR reduced 4x\")\n",
    "\n",
    "            # Forward propagation: [LINEAR -> RELU]*(L-1) -> LINEAR -> SIGMOID.\n",
    "            AL, caches = L_model_forward(miniX, parameters)\n",
    "        \n",
    "            # Compute cost.\n",
    "            cost = compute_cost(AL, miniY)\n",
    "    \n",
    "            # Backward propagation.\n",
    "            grads = L_model_backward(AL, miniY, caches)\n",
    " \n",
    "            # Update parameters.\n",
    "            if opt[0] == \"gd\":\n",
    "                parameters = update_parameters(parameters, grads, learning_rate,'gd')\n",
    "            elif opt[0] == \"momentum\":\n",
    "                parameters,v = update_parameters(parameters, grads, learning_rate,'momentum',[v,beta])\n",
    "            elif opt[0] == \"adam\":\n",
    "                t = t+1\n",
    "                parameters,v,s = update_parameters(parameters, grads, learning_rate,'adam',[v,s,t,beta1,beta2,epsilon])\n",
    "        \n",
    "                \n",
    "            # Print the cost 10 times.\n",
    "        if print_cost and i%(epochs/10)==0:\n",
    "            print (\"Cost after epoch %i: %f\" %(i, cost))\n",
    "            costs.append(cost)\n",
    "            \n",
    "    # plot the cost\n",
    "    plt.plot(np.squeeze(costs))\n",
    "    plt.ylabel('cost')\n",
    "    plt.xlabel('iterations (per hundreds)')\n",
    "    plt.title(\"Learning rate =\" + str(learning_rate))\n",
    "    plt.show()\n",
    "    \n",
    "    return parameters"
   ]
  },
  {
   "cell_type": "code",
   "execution_count": 49,
   "metadata": {},
   "outputs": [
    {
     "name": "stdout",
     "output_type": "stream",
     "text": [
      "Cost after epoch 0: 0.561443\n",
      "Cost after epoch 10: 0.059860\n",
      "Cost after epoch 20: 0.044845\n",
      "Cost after epoch 30: 0.117504\n",
      "Cost after epoch 40: 0.086675\n",
      "Cost after epoch 50: 0.087570\n",
      "Cost after epoch 60: 0.028950\n",
      "Cost after epoch 70: 0.099565\n",
      "Cost after epoch 80: 0.082590\n",
      "Cost after epoch 90: 0.014750\n"
     ]
    },
    {
     "data": {
      "image/png": "[encoded data removed]",
      "text/plain": [
       "<Figure size 432x288 with 1 Axes>"
      ]
     },
     "metadata": {
      "needs_background": "light"
     },
     "output_type": "display_data"
    }
   ],
   "source": [
    "params_min1 = mini_model(nnXtr,nnytr,layers,batchsize=64,learning_rate=0.01,epochs=100,print_cost=True,dynamic_lr=False,init='random',opt=['gd'],sd=0)"
   ]
  },
  {
   "cell_type": "code",
   "execution_count": 51,
   "metadata": {},
   "outputs": [
    {
     "name": "stdout",
     "output_type": "stream",
     "text": [
      "Cost after epoch 0: 0.486805\n",
      "Cost after epoch 10: 0.034595\n",
      "Cost after epoch 20: 0.040369\n",
      "Cost after epoch 30: 0.088193\n",
      "Cost after epoch 40: 0.056512\n",
      "Cost after epoch 50: 0.059543\n",
      "Cost after epoch 60: 0.040007\n",
      "Cost after epoch 70: 0.074918\n",
      "Cost after epoch 80: 0.070442\n",
      "Cost after epoch 90: 0.012580\n"
     ]
    },
    {
     "data": {
      "image/png": "[encoded data removed]",
      "text/plain": [
       "<Figure size 432x288 with 1 Axes>"
      ]
     },
     "metadata": {
      "needs_background": "light"
     },
     "output_type": "display_data"
    }
   ],
   "source": [
    "#Works! Let's see if it can learn well, though.\n",
    "\n",
    "#Checking momentum to make sure it works.\n",
    "layers = [95,50,25,15,10,5,1]\n",
    "opti = ['momentum',0.9]\n",
    "params_min2 = mini_model(nnXtr,nnytr,layers,batchsize=64,learning_rate=0.01,epochs=100,print_cost=True,dynamic_lr=False,init='he',opt=opti,sd=0)"
   ]
  },
  {
   "cell_type": "code",
   "execution_count": 55,
   "metadata": {},
   "outputs": [
    {
     "name": "stdout",
     "output_type": "stream",
     "text": [
      "Cost after epoch 0: 0.755821\n",
      "Cost after epoch 10: 0.102330\n",
      "Cost after epoch 20: 0.049409\n",
      "Cost after epoch 30: 0.104918\n",
      "Cost after epoch 40: 0.063148\n",
      "Cost after epoch 50: 0.068931\n",
      "Cost after epoch 60: 0.028459\n",
      "Cost after epoch 70: 0.081496\n",
      "Cost after epoch 80: 0.069925\n",
      "Cost after epoch 90: 0.013873\n"
     ]
    },
    {
     "data": {
      "image/png": "[encoded data removed]",
      "text/plain": [
       "<Figure size 432x288 with 1 Axes>"
      ]
     },
     "metadata": {
      "needs_background": "light"
     },
     "output_type": "display_data"
    }
   ],
   "source": [
    "#Checking ADAM to make sure it works.\n",
    "layers = [95,50,25,15,10,5,1]\n",
    "opti = ['adam',0,0.9,0.999,1e-8]\n",
    "params_min2 = mini_model(nnXtr,nnytr,layers,batchsize=64,learning_rate=0.0001,epochs=100,print_cost=True,dynamic_lr=False,init='he',opt=opti,sd=0)"
   ]
  },
  {
   "cell_type": "code",
   "execution_count": 57,
   "metadata": {},
   "outputs": [
    {
     "name": "stdout",
     "output_type": "stream",
     "text": [
      "Accuracy: 0.9799560009777564\n",
      "(4091, 1)\n",
      "(4091, 95)\n",
      "| Model     |   Accuracy |      AUC |   Precision |   Recall |   F1 Score |\n",
      "|-----------+------------+----------+-------------+----------+------------|\n",
      "| ADAM - IS |   0.979956 | 0.744318 |      0.8125 | 0.492424 |   0.613208 |\n"
     ]
    }
   ],
   "source": [
    "#ADAM in-sample performance:\n",
    "predictions_test = predict(nnXtr, nnytr, params_min2)\n",
    "ypreds=predictions_test.T\n",
    "print(ypreds.shape)\n",
    "print(Xtr.shape)\n",
    "perf_table(ypreds,ytr,\"ADAM - IS\")"
   ]
  },
  {
   "cell_type": "code",
   "execution_count": 58,
   "metadata": {},
   "outputs": [
    {
     "name": "stdout",
     "output_type": "stream",
     "text": [
      "Cost after epoch 0: 0.089191\n",
      "Cost after epoch 10: 0.010092\n",
      "Cost after epoch 20: 0.029777\n",
      "Cost after epoch 30: 0.071989\n",
      "Cost after epoch 40: 0.037114\n",
      "Cost after epoch 50: 0.030547\n",
      "Cost after epoch 60: 0.024103\n",
      "Cost after epoch 70: 0.067144\n",
      "Cost after epoch 80: 0.053488\n",
      "Cost after epoch 90: 0.012314\n"
     ]
    },
    {
     "data": {
      "image/png": "[encoded data removed]",
      "text/plain": [
       "<Figure size 432x288 with 1 Axes>"
      ]
     },
     "metadata": {
      "needs_background": "light"
     },
     "output_type": "display_data"
    }
   ],
   "source": [
    "#Not bad - maybe we can tune it up a little bit\n",
    "layers = [95,50,25,15,10,5,1]\n",
    "opti = ['adam',0,0.9,0.999,1e-8]\n",
    "initi = ['custom',params_min2]\n",
    "params_min3 = mini_model(nnXtr,nnytr,layers,batchsize=64,learning_rate=1e-6,epochs=100,print_cost=True,dynamic_lr=False,init=initi,opt=opti,sd=0)"
   ]
  },
  {
   "cell_type": "code",
   "execution_count": 59,
   "metadata": {},
   "outputs": [
    {
     "name": "stdout",
     "output_type": "stream",
     "text": [
      "Accuracy: 0.9802004399902229\n",
      "(4091, 1)\n",
      "(4091, 95)\n",
      "| Model     |   Accuracy |      AUC |   Precision |   Recall |   F1 Score |\n",
      "|-----------+------------+----------+-------------+----------+------------|\n",
      "| ADAM - IS |     0.9802 | 0.748106 |    0.814815 |      0.5 |   0.619718 |\n"
     ]
    }
   ],
   "source": [
    "predictions_test = predict(nnXtr, nnytr, params_min3)\n",
    "ypreds=predictions_test.T\n",
    "print(ypreds.shape)\n",
    "print(Xtr.shape)\n",
    "perf_table(ypreds,ytr,\"ADAM - IS\")"
   ]
  },
  {
   "cell_type": "code",
   "execution_count": 60,
   "metadata": {},
   "outputs": [
    {
     "name": "stdout",
     "output_type": "stream",
     "text": [
      "Accuracy: 0.9684750733137832\n",
      "(1364, 1)\n",
      "(1364, 95)\n",
      "| Model     |   Accuracy |      AUC |   Precision |   Recall |   F1 Score |\n",
      "|-----------+------------+----------+-------------+----------+------------|\n",
      "| ADAM - VA |   0.968475 | 0.644393 |    0.681818 | 0.294118 |   0.410959 |\n"
     ]
    }
   ],
   "source": [
    "#Let's check base performance on the validation set.\n",
    "predictions_test = predict(nnXva, nnyva, params_min3)\n",
    "ypreds=predictions_test.T\n",
    "print(ypreds.shape)\n",
    "print(Xva.shape)\n",
    "perf_table(ypreds,yva,\"ADAM - VA\")"
   ]
  },
  {
   "cell_type": "code",
   "execution_count": null,
   "metadata": {},
   "outputs": [],
   "source": [
    "#Not terrible but the model is a bit overfit.  We will attempt regularization in V3.\n",
    "\n",
    "#Let's try to tune the classification threshold on VA and see what happens with TE.\n",
    "best_c = None\n",
    "best_f = 0\n",
    "\n",
    "for i in range(100):\n",
    "    c = float(i)/100\n",
    "    predictions_test = predict(nnXva, nnyva, params_min3,threshold=c)\n",
    "    ypreds=predictions_test.T\n",
    "    f = f1_score(yva,ypreds)\n",
    "    \n",
    "    if f>best_f:\n",
    "        best_f=f\n",
    "        best_c=c"
   ]
  },
  {
   "cell_type": "code",
   "execution_count": 62,
   "metadata": {},
   "outputs": [
    {
     "name": "stdout",
     "output_type": "stream",
     "text": [
      "best threshold: 0.38\n",
      "best f: 0.46341463414634143\n"
     ]
    }
   ],
   "source": [
    "print(\"best threshold:\",best_c)\n",
    "print(\"best f:\",best_f)"
   ]
  },
  {
   "cell_type": "code",
   "execution_count": 63,
   "metadata": {},
   "outputs": [
    {
     "name": "stdout",
     "output_type": "stream",
     "text": [
      "Accuracy: 0.9677419354838712\n",
      "(1364, 1)\n",
      "(1364, 95)\n",
      "| Model     |   Accuracy |      AUC |   Precision |   Recall |   F1 Score |\n",
      "|-----------+------------+----------+-------------+----------+------------|\n",
      "| ADAM - VA |   0.967742 | 0.681705 |    0.612903 | 0.372549 |   0.463415 |\n"
     ]
    }
   ],
   "source": [
    "#Checking c=0.38 on the validation set.\n",
    "predictions_test = predict(nnXva, nnyva, params_min3,threshold=0.38)\n",
    "ypreds=predictions_test.T\n",
    "print(ypreds.shape)\n",
    "print(Xva.shape)\n",
    "perf_table(ypreds,yva,\"ADAM - VA\")"
   ]
  },
  {
   "cell_type": "code",
   "execution_count": 64,
   "metadata": {},
   "outputs": [
    {
     "name": "stdout",
     "output_type": "stream",
     "text": [
      "Accuracy: 0.9743401759530794\n",
      "(1364, 1)\n",
      "(1364, 95)\n",
      "| Model     |   Accuracy |      AUC |   Precision |   Recall |   F1 Score |\n",
      "|-----------+------------+----------+-------------+----------+------------|\n",
      "| ADAM - TE |    0.97434 | 0.658394 |    0.545455 | 0.324324 |    0.40678 |\n"
     ]
    }
   ],
   "source": [
    "#Still not great, need to add regularization and train longer?  Maybe larger batch size as well.\n",
    "#Anyway, here is the testing performance:\n",
    "predictions_test = predict(nnXte, nnyte, params_min3,threshold=0.38)\n",
    "ypreds=predictions_test.T\n",
    "print(ypreds.shape)\n",
    "print(Xte.shape)\n",
    "perf_table(ypreds,yte,\"ADAM - TE\")"
   ]
  },
  {
   "cell_type": "code",
   "execution_count": null,
   "metadata": {},
   "outputs": [],
   "source": [
    "#The final results aren't great but in this iteration we accomplished:\n",
    "# BATCH learning.  In V3 I will attempt regularization, and maybe we'll see better performance."
   ]
  }
 ],
 "metadata": {
  "kernelspec": {
   "display_name": "Python 3",
   "language": "python",
   "name": "python3"
  },
  "language_info": {
   "codemirror_mode": {
    "name": "ipython",
    "version": 3
   },
   "file_extension": ".py",
   "mimetype": "text/x-python",
   "name": "python",
   "nbconvert_exporter": "python",
   "pygments_lexer": "ipython3",
   "version": "3.7.3"
  }
 },
 "nbformat": 4,
 "nbformat_minor": 2
}
